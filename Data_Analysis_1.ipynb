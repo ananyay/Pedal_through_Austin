{
 "cells": [
  {
   "cell_type": "code",
   "execution_count": 1,
   "metadata": {},
   "outputs": [],
   "source": [
    "# importing dependencies\n",
    "import numpy as np \n",
    "import pandas as pd \n",
    "import matplotlib.pyplot as plt\n",
    "\n",
    "\n"
   ]
  },
  {
   "cell_type": "code",
   "execution_count": 2,
   "metadata": {},
   "outputs": [
    {
     "data": {
      "text/html": [
       "<div>\n",
       "<style scoped>\n",
       "    .dataframe tbody tr th:only-of-type {\n",
       "        vertical-align: middle;\n",
       "    }\n",
       "\n",
       "    .dataframe tbody tr th {\n",
       "        vertical-align: top;\n",
       "    }\n",
       "\n",
       "    .dataframe thead th {\n",
       "        text-align: right;\n",
       "    }\n",
       "</style>\n",
       "<table border=\"1\" class=\"dataframe\">\n",
       "  <thead>\n",
       "    <tr style=\"text-align: right;\">\n",
       "      <th></th>\n",
       "      <th>Trip ID</th>\n",
       "      <th>Membership Type</th>\n",
       "      <th>Bicycle ID</th>\n",
       "      <th>Checkout Date</th>\n",
       "      <th>Checkout Time</th>\n",
       "      <th>Checkout Kiosk ID</th>\n",
       "      <th>Checkout Kiosk</th>\n",
       "      <th>Return Kiosk ID</th>\n",
       "      <th>Return Kiosk</th>\n",
       "      <th>Trip Duration Minutes</th>\n",
       "      <th>Month</th>\n",
       "      <th>Year</th>\n",
       "    </tr>\n",
       "  </thead>\n",
       "  <tbody>\n",
       "    <tr>\n",
       "      <th>0</th>\n",
       "      <td>9900285854</td>\n",
       "      <td>Annual (San Antonio B-cycle)</td>\n",
       "      <td>207.0</td>\n",
       "      <td>10/26/2014</td>\n",
       "      <td>13:12:00</td>\n",
       "      <td>2537.0</td>\n",
       "      <td>West &amp; 6th St.</td>\n",
       "      <td>2707.0</td>\n",
       "      <td>Rainey St @ Cummings</td>\n",
       "      <td>76</td>\n",
       "      <td>10.0</td>\n",
       "      <td>2014.0</td>\n",
       "    </tr>\n",
       "    <tr>\n",
       "      <th>1</th>\n",
       "      <td>9900285855</td>\n",
       "      <td>24-Hour Kiosk (Austin B-cycle)</td>\n",
       "      <td>969.0</td>\n",
       "      <td>10/26/2014</td>\n",
       "      <td>13:12:00</td>\n",
       "      <td>2498.0</td>\n",
       "      <td>Convention Center / 4th St. @ MetroRail</td>\n",
       "      <td>2566.0</td>\n",
       "      <td>Pfluger Bridge @ W 2nd Street</td>\n",
       "      <td>58</td>\n",
       "      <td>10.0</td>\n",
       "      <td>2014.0</td>\n",
       "    </tr>\n",
       "    <tr>\n",
       "      <th>2</th>\n",
       "      <td>9900285856</td>\n",
       "      <td>Annual Membership (Austin B-cycle)</td>\n",
       "      <td>214.0</td>\n",
       "      <td>10/26/2014</td>\n",
       "      <td>13:12:00</td>\n",
       "      <td>2537.0</td>\n",
       "      <td>West &amp; 6th St.</td>\n",
       "      <td>2496.0</td>\n",
       "      <td>8th &amp; Congress</td>\n",
       "      <td>8</td>\n",
       "      <td>10.0</td>\n",
       "      <td>2014.0</td>\n",
       "    </tr>\n",
       "    <tr>\n",
       "      <th>3</th>\n",
       "      <td>9900285857</td>\n",
       "      <td>24-Hour Kiosk (Austin B-cycle)</td>\n",
       "      <td>745.0</td>\n",
       "      <td>10/26/2014</td>\n",
       "      <td>13:12:00</td>\n",
       "      <td>NaN</td>\n",
       "      <td>Zilker Park at Barton Springs &amp; William Barton...</td>\n",
       "      <td>NaN</td>\n",
       "      <td>Zilker Park at Barton Springs &amp; William Barton...</td>\n",
       "      <td>28</td>\n",
       "      <td>10.0</td>\n",
       "      <td>2014.0</td>\n",
       "    </tr>\n",
       "    <tr>\n",
       "      <th>4</th>\n",
       "      <td>9900285858</td>\n",
       "      <td>24-Hour Kiosk (Austin B-cycle)</td>\n",
       "      <td>164.0</td>\n",
       "      <td>10/26/2014</td>\n",
       "      <td>13:12:00</td>\n",
       "      <td>2538.0</td>\n",
       "      <td>Bullock Museum @ Congress &amp; MLK</td>\n",
       "      <td>NaN</td>\n",
       "      <td>Convention Center/ 3rd &amp; Trinity</td>\n",
       "      <td>15</td>\n",
       "      <td>10.0</td>\n",
       "      <td>2014.0</td>\n",
       "    </tr>\n",
       "  </tbody>\n",
       "</table>\n",
       "</div>"
      ],
      "text/plain": [
       "      Trip ID                     Membership Type  Bicycle ID Checkout Date  \\\n",
       "0  9900285854        Annual (San Antonio B-cycle)       207.0    10/26/2014   \n",
       "1  9900285855      24-Hour Kiosk (Austin B-cycle)       969.0    10/26/2014   \n",
       "2  9900285856  Annual Membership (Austin B-cycle)       214.0    10/26/2014   \n",
       "3  9900285857      24-Hour Kiosk (Austin B-cycle)       745.0    10/26/2014   \n",
       "4  9900285858      24-Hour Kiosk (Austin B-cycle)       164.0    10/26/2014   \n",
       "\n",
       "  Checkout Time  Checkout Kiosk ID  \\\n",
       "0      13:12:00             2537.0   \n",
       "1      13:12:00             2498.0   \n",
       "2      13:12:00             2537.0   \n",
       "3      13:12:00                NaN   \n",
       "4      13:12:00             2538.0   \n",
       "\n",
       "                                      Checkout Kiosk  Return Kiosk ID  \\\n",
       "0                                     West & 6th St.           2707.0   \n",
       "1            Convention Center / 4th St. @ MetroRail           2566.0   \n",
       "2                                     West & 6th St.           2496.0   \n",
       "3  Zilker Park at Barton Springs & William Barton...              NaN   \n",
       "4                    Bullock Museum @ Congress & MLK              NaN   \n",
       "\n",
       "                                        Return Kiosk  Trip Duration Minutes  \\\n",
       "0                               Rainey St @ Cummings                     76   \n",
       "1                      Pfluger Bridge @ W 2nd Street                     58   \n",
       "2                                     8th & Congress                      8   \n",
       "3  Zilker Park at Barton Springs & William Barton...                     28   \n",
       "4                   Convention Center/ 3rd & Trinity                     15   \n",
       "\n",
       "   Month    Year  \n",
       "0   10.0  2014.0  \n",
       "1   10.0  2014.0  \n",
       "2   10.0  2014.0  \n",
       "3   10.0  2014.0  \n",
       "4   10.0  2014.0  "
      ]
     },
     "execution_count": 2,
     "metadata": {},
     "output_type": "execute_result"
    }
   ],
   "source": [
    "# reading the csv file using pandas and creating a dataframe \n",
    "df_bike = pd.read_csv(\"resources/austin_B-Cycle_Trips.csv\")\n",
    "#df_station = pd.read_csv(\"resources/austin_bikeshare_stations.csv\")\n",
    "# displaying the top rows of the dataframe \n",
    "df_bike.head()\n",
    "#df_station"
   ]
  },
  {
   "cell_type": "code",
   "execution_count": 3,
   "metadata": {},
   "outputs": [
    {
     "data": {
      "text/plain": [
       "Trip ID                  991271\n",
       "Membership Type          991271\n",
       "Bicycle ID               991271\n",
       "Checkout Date            991271\n",
       "Checkout Time            991271\n",
       "Checkout Kiosk ID        991271\n",
       "Checkout Kiosk           991271\n",
       "Return Kiosk ID          991271\n",
       "Return Kiosk             991271\n",
       "Trip Duration Minutes    991271\n",
       "Month                    991271\n",
       "Year                     991271\n",
       "dtype: int64"
      ]
     },
     "execution_count": 3,
     "metadata": {},
     "output_type": "execute_result"
    }
   ],
   "source": [
    "# Filling the na values \n",
    "df_bike_na = df_bike.fillna(0)\n",
    "df_bike_na.count()"
   ]
  },
  {
   "cell_type": "code",
   "execution_count": 4,
   "metadata": {},
   "outputs": [
    {
     "data": {
      "text/html": [
       "<div>\n",
       "<style scoped>\n",
       "    .dataframe tbody tr th:only-of-type {\n",
       "        vertical-align: middle;\n",
       "    }\n",
       "\n",
       "    .dataframe tbody tr th {\n",
       "        vertical-align: top;\n",
       "    }\n",
       "\n",
       "    .dataframe thead th {\n",
       "        text-align: right;\n",
       "    }\n",
       "</style>\n",
       "<table border=\"1\" class=\"dataframe\">\n",
       "  <thead>\n",
       "    <tr style=\"text-align: right;\">\n",
       "      <th></th>\n",
       "      <th>Trip ID</th>\n",
       "      <th>Membership Type</th>\n",
       "      <th>Bicycle ID</th>\n",
       "      <th>Checkout Date</th>\n",
       "      <th>Checkout Time</th>\n",
       "      <th>Checkout Kiosk ID</th>\n",
       "      <th>Checkout Kiosk</th>\n",
       "      <th>Return Kiosk ID</th>\n",
       "      <th>Return Kiosk</th>\n",
       "      <th>Trip Duration Minutes</th>\n",
       "      <th>Month</th>\n",
       "      <th>Year</th>\n",
       "      <th>Trip Date</th>\n",
       "      <th>Trip Day of Week</th>\n",
       "    </tr>\n",
       "  </thead>\n",
       "  <tbody>\n",
       "    <tr>\n",
       "      <th>0</th>\n",
       "      <td>9900285854</td>\n",
       "      <td>Annual (San Antonio B-cycle)</td>\n",
       "      <td>207.0</td>\n",
       "      <td>2014-10-26</td>\n",
       "      <td>13:12:00</td>\n",
       "      <td>2537.0</td>\n",
       "      <td>West &amp; 6th St.</td>\n",
       "      <td>2707.0</td>\n",
       "      <td>Rainey St @ Cummings</td>\n",
       "      <td>76</td>\n",
       "      <td>10</td>\n",
       "      <td>2014</td>\n",
       "      <td>26</td>\n",
       "      <td>Sunday</td>\n",
       "    </tr>\n",
       "  </tbody>\n",
       "</table>\n",
       "</div>"
      ],
      "text/plain": [
       "      Trip ID               Membership Type  Bicycle ID Checkout Date  \\\n",
       "0  9900285854  Annual (San Antonio B-cycle)       207.0    2014-10-26   \n",
       "\n",
       "  Checkout Time  Checkout Kiosk ID  Checkout Kiosk  Return Kiosk ID  \\\n",
       "0      13:12:00             2537.0  West & 6th St.           2707.0   \n",
       "\n",
       "           Return Kiosk  Trip Duration Minutes  Month  Year  Trip Date  \\\n",
       "0  Rainey St @ Cummings                     76     10  2014         26   \n",
       "\n",
       "  Trip Day of Week  \n",
       "0           Sunday  "
      ]
     },
     "execution_count": 4,
     "metadata": {},
     "output_type": "execute_result"
    }
   ],
   "source": [
    "df_bike_na['Checkout Date'] = pd.to_datetime(df_bike_na['Checkout Date']) \n",
    "df_bike_na.head(1)\n",
    "df_bike_na['Year'] = df_bike_na['Checkout Date'].dt.year\n",
    "df_bike_na['Month'] = df_bike_na['Checkout Date'].dt.month\n",
    "#df_bike_na['Trip Month Name'] = df_bike_na['Checkout Date'].dt.month_name()\n",
    "df_bike_na['Trip Date'] = df_bike_na['Checkout Date'].dt.day\n",
    "df_bike_na.head(1)\n",
    "\n",
    "df_bike_na['Trip Day of Week'] = df_bike_na['Checkout Date'].dt.weekday_name\n",
    "df_bike_na.head(1) \n",
    "\n"
   ]
  },
  {
   "cell_type": "code",
   "execution_count": 5,
   "metadata": {},
   "outputs": [
    {
     "data": {
      "text/html": [
       "<div>\n",
       "<style scoped>\n",
       "    .dataframe tbody tr th:only-of-type {\n",
       "        vertical-align: middle;\n",
       "    }\n",
       "\n",
       "    .dataframe tbody tr th {\n",
       "        vertical-align: top;\n",
       "    }\n",
       "\n",
       "    .dataframe thead th {\n",
       "        text-align: right;\n",
       "    }\n",
       "</style>\n",
       "<table border=\"1\" class=\"dataframe\">\n",
       "  <thead>\n",
       "    <tr style=\"text-align: right;\">\n",
       "      <th></th>\n",
       "      <th>Trip ID</th>\n",
       "      <th>Membership Type</th>\n",
       "      <th>Bicycle ID</th>\n",
       "      <th>Checkout Date</th>\n",
       "      <th>Checkout Time</th>\n",
       "      <th>Checkout Station ID</th>\n",
       "      <th>Checkout Station</th>\n",
       "      <th>Return Station ID</th>\n",
       "      <th>Return Station</th>\n",
       "      <th>Trip Duration Minutes</th>\n",
       "      <th>Trip Month</th>\n",
       "      <th>Trip Year</th>\n",
       "      <th>Trip Date</th>\n",
       "      <th>Trip Day of Week</th>\n",
       "    </tr>\n",
       "  </thead>\n",
       "  <tbody>\n",
       "    <tr>\n",
       "      <th>0</th>\n",
       "      <td>9900285854</td>\n",
       "      <td>Annual (San Antonio B-cycle)</td>\n",
       "      <td>207.0</td>\n",
       "      <td>2014-10-26</td>\n",
       "      <td>13:12:00</td>\n",
       "      <td>2537.0</td>\n",
       "      <td>West &amp; 6th St.</td>\n",
       "      <td>2707.0</td>\n",
       "      <td>Rainey St @ Cummings</td>\n",
       "      <td>76</td>\n",
       "      <td>10</td>\n",
       "      <td>2014</td>\n",
       "      <td>26</td>\n",
       "      <td>Sunday</td>\n",
       "    </tr>\n",
       "  </tbody>\n",
       "</table>\n",
       "</div>"
      ],
      "text/plain": [
       "      Trip ID               Membership Type  Bicycle ID Checkout Date  \\\n",
       "0  9900285854  Annual (San Antonio B-cycle)       207.0    2014-10-26   \n",
       "\n",
       "  Checkout Time  Checkout Station ID Checkout Station  Return Station ID  \\\n",
       "0      13:12:00               2537.0   West & 6th St.             2707.0   \n",
       "\n",
       "         Return Station  Trip Duration Minutes  Trip Month  Trip Year  \\\n",
       "0  Rainey St @ Cummings                     76          10       2014   \n",
       "\n",
       "   Trip Date Trip Day of Week  \n",
       "0         26           Sunday  "
      ]
     },
     "execution_count": 5,
     "metadata": {},
     "output_type": "execute_result"
    }
   ],
   "source": [
    "df_bike_na = df_bike_na.rename(columns = {\"Checkout Kiosk ID\":\"Checkout Station ID\",\"Checkout Kiosk\":\"Checkout Station\",\n",
    "                                          \"Return Kiosk ID\":\"Return Station ID\",\"Return Kiosk\":\"Return Station\",\n",
    "                                          \"Month\":\"Trip Month\",\"Year\":\"Trip Year\"})\n",
    "df_bike_na.head(1) \n"
   ]
  },
  {
   "cell_type": "code",
   "execution_count": 6,
   "metadata": {},
   "outputs": [
    {
     "data": {
      "text/html": [
       "<div>\n",
       "<style scoped>\n",
       "    .dataframe tbody tr th:only-of-type {\n",
       "        vertical-align: middle;\n",
       "    }\n",
       "\n",
       "    .dataframe tbody tr th {\n",
       "        vertical-align: top;\n",
       "    }\n",
       "\n",
       "    .dataframe thead th {\n",
       "        text-align: right;\n",
       "    }\n",
       "</style>\n",
       "<table border=\"1\" class=\"dataframe\">\n",
       "  <thead>\n",
       "    <tr style=\"text-align: right;\">\n",
       "      <th></th>\n",
       "      <th>Trip ID</th>\n",
       "      <th>Membership Type</th>\n",
       "      <th>Bicycle ID</th>\n",
       "      <th>Checkout Date</th>\n",
       "      <th>Checkout Time</th>\n",
       "      <th>Checkout Station ID</th>\n",
       "      <th>Checkout Station</th>\n",
       "      <th>Return Station ID</th>\n",
       "      <th>Return Station</th>\n",
       "      <th>Trip Duration Minutes</th>\n",
       "      <th>Trip Month</th>\n",
       "      <th>Trip Year</th>\n",
       "      <th>Trip Date</th>\n",
       "      <th>Trip Day of Week</th>\n",
       "      <th>Trip Hour</th>\n",
       "    </tr>\n",
       "  </thead>\n",
       "  <tbody>\n",
       "    <tr>\n",
       "      <th>0</th>\n",
       "      <td>9900285854</td>\n",
       "      <td>Annual (San Antonio B-cycle)</td>\n",
       "      <td>207.0</td>\n",
       "      <td>2014-10-26</td>\n",
       "      <td>2018-08-26 13:12:00</td>\n",
       "      <td>2537.0</td>\n",
       "      <td>West &amp; 6th St.</td>\n",
       "      <td>2707.0</td>\n",
       "      <td>Rainey St @ Cummings</td>\n",
       "      <td>76</td>\n",
       "      <td>10</td>\n",
       "      <td>2014</td>\n",
       "      <td>26</td>\n",
       "      <td>Sunday</td>\n",
       "      <td>13</td>\n",
       "    </tr>\n",
       "  </tbody>\n",
       "</table>\n",
       "</div>"
      ],
      "text/plain": [
       "      Trip ID               Membership Type  Bicycle ID Checkout Date  \\\n",
       "0  9900285854  Annual (San Antonio B-cycle)       207.0    2014-10-26   \n",
       "\n",
       "        Checkout Time  Checkout Station ID Checkout Station  \\\n",
       "0 2018-08-26 13:12:00               2537.0   West & 6th St.   \n",
       "\n",
       "   Return Station ID        Return Station  Trip Duration Minutes  Trip Month  \\\n",
       "0             2707.0  Rainey St @ Cummings                     76          10   \n",
       "\n",
       "   Trip Year  Trip Date Trip Day of Week  Trip Hour  \n",
       "0       2014         26           Sunday         13  "
      ]
     },
     "execution_count": 6,
     "metadata": {},
     "output_type": "execute_result"
    }
   ],
   "source": [
    "# Split the hour from the checkout time \n",
    "df_bike_na['Checkout Time'] = pd.to_datetime(df_bike_na['Checkout Time'])\n",
    "df_bike_na['Trip Hour'] = df_bike_na['Checkout Time'].dt.hour\n",
    "df_bike_na.head(1) "
   ]
  },
  {
   "cell_type": "code",
   "execution_count": 7,
   "metadata": {},
   "outputs": [
    {
     "data": {
      "text/plain": [
       "Trip Year\n",
       "2013      1457\n",
       "2014    155703\n",
       "2015    184521\n",
       "2016    184680\n",
       "2017    193492\n",
       "2018    271418\n",
       "Name: Trip ID, dtype: int64"
      ]
     },
     "execution_count": 7,
     "metadata": {},
     "output_type": "execute_result"
    }
   ],
   "source": [
    "# Analyze bike rides per year \n",
    "df_bike_year = df_bike_na.groupby('Trip Year')\n",
    "number_of_rides_per_year = df_bike_year['Trip ID'].count()\n",
    "number_of_rides_per_year\n",
    "# Bike Rides have beeen increased in the past 5 years "
   ]
  },
  {
   "cell_type": "code",
   "execution_count": 8,
   "metadata": {},
   "outputs": [
    {
     "data": {
      "text/plain": [
       "3     186687\n",
       "4     118056\n",
       "5     111973\n",
       "10     90380\n",
       "6      84971\n",
       "7      83114\n",
       "2      73500\n",
       "9      57769\n",
       "1      55672\n",
       "11     52282\n",
       "8      49179\n",
       "12     27688\n",
       "Name: Trip Month, dtype: int64"
      ]
     },
     "execution_count": 8,
     "metadata": {},
     "output_type": "execute_result"
    }
   ],
   "source": [
    "# Analyze bike rides per month \n",
    "df_bike_month = df_bike_na['Trip Month'].value_counts()\n",
    "df_bike_month.sort_values(ascending = False)\n",
    "# Third month, March has highest number of rides , can you guess why ? we will let you know in a bit "
   ]
  },
  {
   "cell_type": "code",
   "execution_count": 9,
   "metadata": {},
   "outputs": [
    {
     "data": {
      "text/plain": [
       "Saturday     196760\n",
       "Sunday       162435\n",
       "Friday       154779\n",
       "Monday       125567\n",
       "Thursday     124259\n",
       "Wednesday    114417\n",
       "Tuesday      113054\n",
       "Name: Trip Day of Week, dtype: int64"
      ]
     },
     "execution_count": 9,
     "metadata": {},
     "output_type": "execute_result"
    }
   ],
   "source": [
    "# Analyze busiest Day of Week \n",
    "busy_day = df_bike_na['Trip Day of Week'].value_counts()\n",
    "busy_day\n",
    "# Saturday is the popular Day of Week"
   ]
  },
  {
   "cell_type": "code",
   "execution_count": 10,
   "metadata": {},
   "outputs": [
    {
     "data": {
      "text/plain": [
       "17    84145\n",
       "16    83542\n",
       "15    83420\n",
       "13    82475\n",
       "14    81756\n",
       "12    76883\n",
       "18    71090\n",
       "11    63713\n",
       "19    56589\n",
       "10    48347\n",
       "20    43232\n",
       "9     39620\n",
       "21    35217\n",
       "8     33570\n",
       "22    27529\n",
       "23    18760\n",
       "7     16770\n",
       "0     13676\n",
       "1     10077\n",
       "2      8803\n",
       "6      5709\n",
       "3      2827\n",
       "5      1955\n",
       "4      1566\n",
       "Name: Trip Hour, dtype: int64"
      ]
     },
     "execution_count": 10,
     "metadata": {},
     "output_type": "execute_result"
    }
   ],
   "source": [
    "# Analyze busiest hour of the day \n",
    "busy_hour = df_bike_na['Trip Hour'].value_counts()\n",
    "busy_hour\n",
    "# 2:00pm to 5:00pm are the popular hours of the day"
   ]
  },
  {
   "cell_type": "code",
   "execution_count": 11,
   "metadata": {},
   "outputs": [
    {
     "data": {
      "text/plain": [
       "21st & Speedway @PCL                       42167\n",
       "Riverside @ S. Lamar                       36988\n",
       "City Hall / Lavaca & 2nd                   34604\n",
       "2nd & Congress                             33407\n",
       "5th & Bowie                                32405\n",
       "Rainey St @ Cummings                       31680\n",
       "4th & Congress                             30160\n",
       "Convention Center / 4th St. @ MetroRail    30001\n",
       "Davis at Rainey Street                     29763\n",
       "Capitol Station / Congress & 11th          25226\n",
       "Name: Checkout Station, dtype: int64"
      ]
     },
     "execution_count": 11,
     "metadata": {},
     "output_type": "execute_result"
    }
   ],
   "source": [
    "# calcualte most popualr stations \n",
    "popular_checkout_station = df_bike_na['Checkout Station'].value_counts()\n",
    "popular_checkout_station.sort_values(ascending = False).head(10)\n"
   ]
  },
  {
   "cell_type": "code",
   "execution_count": 12,
   "metadata": {
    "scrolled": true
   },
   "outputs": [
    {
     "data": {
      "text/plain": [
       "Walk Up                           368322\n",
       "Local365                          167363\n",
       "U.T. Student Membership           158480\n",
       "24-Hour Kiosk (Austin B-cycle)    108672\n",
       "Local30                            54774\n",
       "Weekender                          43880\n",
       "Name: Membership Type, dtype: int64"
      ]
     },
     "execution_count": 12,
     "metadata": {},
     "output_type": "execute_result"
    }
   ],
   "source": [
    "# Calcualte most Popular Membership type \n",
    "popular_membership_type = df_bike_na['Membership Type'].value_counts() \n",
    "popular_membership_type.head(6)\n",
    "\n"
   ]
  },
  {
   "cell_type": "code",
   "execution_count": 13,
   "metadata": {},
   "outputs": [],
   "source": [
    "#df_bike_route = df_bike_na.groupby('Checkout Station')\n",
    "#df_bike_route['Return Station'].value_counts()"
   ]
  },
  {
   "cell_type": "code",
   "execution_count": 14,
   "metadata": {},
   "outputs": [],
   "source": [
    "# Groupby Membership Type\n",
    "#df_bike_membership = df_bike_na.groupby('Checkout Station')\n",
    "#df_bike_membership['Membership Type'].value_counts() \n"
   ]
  },
  {
   "cell_type": "code",
   "execution_count": 15,
   "metadata": {},
   "outputs": [
    {
     "data": {
      "text/plain": [
       "Trip ID                           int64\n",
       "Membership Type                  object\n",
       "Bicycle ID                      float64\n",
       "Checkout Date            datetime64[ns]\n",
       "Checkout Time            datetime64[ns]\n",
       "Checkout Station ID             float64\n",
       "Checkout Station                 object\n",
       "Return Station ID               float64\n",
       "Return Station                   object\n",
       "Trip Duration Minutes             int64\n",
       "Trip Month                        int64\n",
       "Trip Year                         int64\n",
       "Trip Date                         int64\n",
       "Trip Day of Week                 object\n",
       "Trip Hour                         int64\n",
       "dtype: object"
      ]
     },
     "execution_count": 15,
     "metadata": {},
     "output_type": "execute_result"
    }
   ],
   "source": [
    "df_bike_na.dtypes"
   ]
  },
  {
   "cell_type": "code",
   "execution_count": 16,
   "metadata": {},
   "outputs": [
    {
     "data": {
      "text/plain": [
       "Trip ID                           int64\n",
       "Membership Type                  object\n",
       "Bicycle ID                      float64\n",
       "Checkout Date            datetime64[ns]\n",
       "Checkout Time            datetime64[ns]\n",
       "Checkout Station ID             float64\n",
       "Checkout Station                 object\n",
       "Return Station ID               float64\n",
       "Return Station                   object\n",
       "Trip Duration Minutes             int64\n",
       "Trip Month                        int32\n",
       "Trip Year                         int32\n",
       "Trip Date                         int32\n",
       "Trip Day of Week                 object\n",
       "Trip Hour                         int64\n",
       "dtype: object"
      ]
     },
     "execution_count": 16,
     "metadata": {},
     "output_type": "execute_result"
    }
   ],
   "source": [
    "\n",
    "df_bike_change1 = df_bike_na[\"Trip Year\"].astype(int)\n",
    "df_bike_na['Trip Year'] = df_bike_change1\n",
    "df_bike_change2 = df_bike_na[\"Trip Month\"].astype(int)\n",
    "df_bike_na['Trip Month'] = df_bike_change2\n",
    "df_bike_change3 = df_bike_na[\"Trip Date\"].astype(int)\n",
    "df_bike_na['Trip Date'] = df_bike_change3\n",
    "df_bike_na.dtypes\n"
   ]
  },
  {
   "cell_type": "code",
   "execution_count": 17,
   "metadata": {},
   "outputs": [
    {
     "data": {
      "text/plain": [
       "16067"
      ]
     },
     "execution_count": 17,
     "metadata": {},
     "output_type": "execute_result"
    }
   ],
   "source": [
    "                       ## SXSW ##\n",
    "\n",
    "# Compare the count of bike rides during  SXSW or other popular\n",
    "#events like ACL for different years (2013 to 2018).\n",
    "\n",
    "#SXSW 2018 - March 12 to March 18 2018\n",
    "# SXSW 2017 - Mar 10, 2017 – Mar 19, 2017\n",
    "# SXSW 2016 - Mar 11, 2016 – Mar 20, 2016\n",
    "# SXSW 2015 - Mar 13, 2015 – Mar 23, 2015\n",
    "# SXSW 2014 - Mar 7, 2014 – Mar 17, 2014\n",
    "# SXSW 2013 - March 8 2013 - March 18 2013\n",
    "\n",
    "# Number of rides per SXSW\n",
    "df_bike_2018 = df_bike_na.loc[(df_bike_na[\"Trip Year\"] ==2018), : ]\n",
    "df_bike_2018_march = df_bike_2018.loc[(df_bike_2018[\"Trip Month\"] == 3), : ]\n",
    "df_bike_2018_march_SXSW = df_bike_2018_march.loc[(df_bike_2018_march[\"Trip Date\"] >= 12)& (df_bike_2018_march[\"Trip Date\"] <= 18), : ]\n",
    "number_of_rides_SXSW_2018 = df_bike_2018_march_SXSW['Trip ID'].count()\n",
    "number_of_rides_SXSW_2018\n",
    "\n"
   ]
  },
  {
   "cell_type": "code",
   "execution_count": 18,
   "metadata": {},
   "outputs": [
    {
     "data": {
      "text/plain": [
       "14998"
      ]
     },
     "execution_count": 18,
     "metadata": {},
     "output_type": "execute_result"
    }
   ],
   "source": [
    "df_bike_2017 = df_bike_na.loc[(df_bike_na[\"Trip Year\"] ==2017), : ]\n",
    "df_bike_2017_march = df_bike_2017.loc[(df_bike_2017[\"Trip Month\"] == 3), : ]\n",
    "df_bike_2017_march_SXSW = df_bike_2017_march.loc[(df_bike_2017_march[\"Trip Date\"] >= 10)& (df_bike_2017_march[\"Trip Date\"] <= 19), : ]\n",
    "number_of_rides_SXSW_2017 = df_bike_2017_march_SXSW['Trip ID'].count()\n",
    "number_of_rides_SXSW_2017\n"
   ]
  },
  {
   "cell_type": "code",
   "execution_count": 19,
   "metadata": {},
   "outputs": [
    {
     "data": {
      "text/plain": [
       "16964"
      ]
     },
     "execution_count": 19,
     "metadata": {},
     "output_type": "execute_result"
    }
   ],
   "source": [
    "df_bike_2016 = df_bike_na.loc[(df_bike_na[\"Trip Year\"] ==2016)]\n",
    "df_bike_2016_march = df_bike_2016.loc[(df_bike_2016[\"Trip Month\"] == 3), : ]\n",
    "df_bike_2016_march_SXSW = df_bike_2016_march.loc[(df_bike_2016_march[\"Trip Date\"] >= 11)& (df_bike_2016_march[\"Trip Date\"] <= 20), : ]\n",
    "number_of_rides_SXSW_2016 = df_bike_2016_march_SXSW['Trip ID'].count()\n",
    "number_of_rides_SXSW_2016"
   ]
  },
  {
   "cell_type": "code",
   "execution_count": 20,
   "metadata": {},
   "outputs": [
    {
     "data": {
      "text/plain": [
       "21554"
      ]
     },
     "execution_count": 20,
     "metadata": {},
     "output_type": "execute_result"
    }
   ],
   "source": [
    "df_bike_2015 = df_bike_na.loc[(df_bike_na[\"Trip Year\"] ==2015)]\n",
    "df_bike_2015_march = df_bike_2015.loc[(df_bike_2015[\"Trip Month\"] == 3), : ]\n",
    "df_bike_2015_march_SXSW = df_bike_2015_march.loc[(df_bike_2015_march[\"Trip Date\"] >= 13)& (df_bike_2015_march[\"Trip Date\"] <= 23), : ]\n",
    "number_of_rides_SXSW_2015 = df_bike_2015_march_SXSW['Trip ID'].count()\n",
    "number_of_rides_SXSW_2015"
   ]
  },
  {
   "cell_type": "code",
   "execution_count": 21,
   "metadata": {},
   "outputs": [
    {
     "data": {
      "text/plain": [
       "11936"
      ]
     },
     "execution_count": 21,
     "metadata": {},
     "output_type": "execute_result"
    }
   ],
   "source": [
    "df_bike_2014 = df_bike_na.loc[(df_bike_na[\"Trip Year\"] ==2014)]\n",
    "df_bike_2014_march = df_bike_2014.loc[(df_bike_2014[\"Trip Month\"] == 3), : ]\n",
    "df_bike_2014_march_SXSW = df_bike_2014_march.loc[(df_bike_2014_march[\"Trip Date\"] >= 13)& (df_bike_2014_march[\"Trip Date\"] <= 23), : ]\n",
    "number_of_rides_SXSW_2014 = df_bike_2014_march_SXSW['Trip ID'].count()\n",
    "number_of_rides_SXSW_2014"
   ]
  },
  {
   "cell_type": "code",
   "execution_count": 22,
   "metadata": {},
   "outputs": [],
   "source": [
    "### ACL\n",
    "#ACL 2018 - Oct 5, 2018 – Oct 14, 2018\n",
    "# ACL 2017 - Oct 6, 2017 – Oct 15, 2017\n",
    "# ACL 2016 -  Sep 30, 2016 – Oct 9, 2016\n",
    "# ACL 2015 - Oct 2, 2015 – Oct 11, 2015\n",
    "# ACL 2014 - 10/3-5 and 10/10-12, 2014\n",
    "# ACL 2013 - October 4-6 and 11-13 ,2013\n",
    "\n",
    "\n"
   ]
  },
  {
   "cell_type": "code",
   "execution_count": 23,
   "metadata": {},
   "outputs": [
    {
     "data": {
      "text/plain": [
       "9944"
      ]
     },
     "execution_count": 23,
     "metadata": {},
     "output_type": "execute_result"
    }
   ],
   "source": [
    "# Calculate number of bike rides during ACL 2017 \n",
    "df_bike_2017 = df_bike_na.loc[(df_bike_na[\"Trip Year\"] ==2017), : ]\n",
    "df_bike_2017_oct = df_bike_2017.loc[(df_bike_2017[\"Trip Month\"] == 10), : ]\n",
    "df_bike_2017_oct_acl = df_bike_2017_oct.loc[(df_bike_2017_oct[\"Trip Date\"] >= 6)& (df_bike_2017_oct[\"Trip Date\"] <= 15), : ]\n",
    "number_of_rides_acl_2017 = df_bike_2017_oct_acl['Trip ID'].count()\n",
    "number_of_rides_acl_2017"
   ]
  },
  {
   "cell_type": "code",
   "execution_count": 24,
   "metadata": {},
   "outputs": [
    {
     "data": {
      "text/plain": [
       "12601"
      ]
     },
     "execution_count": 24,
     "metadata": {},
     "output_type": "execute_result"
    }
   ],
   "source": [
    "# Calculate number of bike rides during ACL 2016\n",
    "df_bike_2016 = df_bike_na.loc[(df_bike_na[\"Trip Year\"] ==2016), : ]\n",
    "df_bike_2016_oct = df_bike_2016.loc[(df_bike_2016[\"Trip Month\"] == 10), : ]\n",
    "df_bike_2016_oct_acl = df_bike_2016_oct.loc[ (df_bike_2016_oct[\"Trip Date\"] <= 9), : ]\n",
    "number_of_rides_oct_acl_2016 = df_bike_2016_oct_acl['Trip ID'].count()\n",
    "\n",
    "df_bike_2016 = df_bike_na.loc[(df_bike_na[\"Trip Year\"] ==2016), : ]\n",
    "df_bike_2016_sept = df_bike_2016.loc[(df_bike_2016[\"Trip Month\"] == 9), : ]\n",
    "df_bike_2016_sept_acl = df_bike_2016_sept.loc[ (df_bike_2016_sept[\"Trip Date\"] >= 30), : ]\n",
    "number_of_rides_sept_acl_2016 = df_bike_2016_sept_acl['Trip ID'].count()\n",
    "\n",
    "number_of_rides_acl_2016 = number_of_rides_oct_acl_2016 + number_of_rides_sept_acl_2016\n",
    "number_of_rides_acl_2016\n",
    "\n"
   ]
  },
  {
   "cell_type": "code",
   "execution_count": 25,
   "metadata": {},
   "outputs": [
    {
     "data": {
      "text/plain": [
       "12481"
      ]
     },
     "execution_count": 25,
     "metadata": {},
     "output_type": "execute_result"
    }
   ],
   "source": [
    "# Calculate number of bike rides during ACL 2015\n",
    "df_bike_2015 = df_bike_na.loc[(df_bike_na[\"Trip Year\"] ==2015), : ]\n",
    "df_bike_2015_oct = df_bike_2015.loc[(df_bike_2015[\"Trip Month\"] == 10), : ]\n",
    "df_bike_2015_oct_acl = df_bike_2015_oct.loc[(df_bike_2015_oct[\"Trip Date\"] >= 2)& (df_bike_2015_oct[\"Trip Date\"] <= 11), : ]\n",
    "number_of_rides_acl_2015 = df_bike_2015_oct_acl['Trip ID'].count()\n",
    "number_of_rides_acl_2015"
   ]
  },
  {
   "cell_type": "code",
   "execution_count": 26,
   "metadata": {},
   "outputs": [
    {
     "data": {
      "text/plain": [
       "9285"
      ]
     },
     "execution_count": 26,
     "metadata": {},
     "output_type": "execute_result"
    }
   ],
   "source": [
    "# Calculate number of bike rides during ACL 2014\n",
    "\n",
    "df_bike_2014 = df_bike_na.loc[(df_bike_na[\"Trip Year\"] ==2014), : ]\n",
    "df_bike_2014_oct = df_bike_2014.loc[(df_bike_2014[\"Trip Month\"] == 10), : ]\n",
    "df_bike_2014_oct_acl = df_bike_2014_oct.loc[((df_bike_2014_oct[\"Trip Date\"] >= 3)& (df_bike_2014_oct[\"Trip Date\"] <= 5)) | ((df_bike_2014_oct[\"Trip Date\"] >= 10)& (df_bike_2014_oct[\"Trip Date\"] <= 12)), : ]\n",
    "number_of_rides_acl_2014 = df_bike_2014_oct_acl['Trip ID'].count()\n",
    "number_of_rides_acl_2014\n"
   ]
  },
  {
   "cell_type": "code",
   "execution_count": 27,
   "metadata": {},
   "outputs": [
    {
     "data": {
      "text/plain": [
       "0"
      ]
     },
     "execution_count": 27,
     "metadata": {},
     "output_type": "execute_result"
    }
   ],
   "source": [
    "# # Calculate number of bike rides during ACL 2013\n",
    "\n",
    "df_bike_2013 = df_bike_na.loc[(df_bike_na[\"Trip Year\"] ==2013), : ]\n",
    "df_bike_2013_oct = df_bike_2013.loc[(df_bike_2013[\"Trip Month\"] == 10), : ]\n",
    "df_bike_2013_oct_acl = df_bike_2013_oct.loc[((df_bike_2013_oct[\"Trip Date\"] >= 4)& (df_bike_2013_oct[\"Trip Date\"] <= 6)) | ((df_bike_2013_oct[\"Trip Date\"] >= 11)& (df_bike_2013_oct[\"Trip Date\"] <= 13)), : ]\n",
    "number_of_rides_acl_2013 = df_bike_2013_oct_acl['Trip ID'].count()\n",
    "number_of_rides_acl_2013\n",
    "\n",
    "## no data for ACL 2013"
   ]
  },
  {
   "cell_type": "code",
   "execution_count": 28,
   "metadata": {},
   "outputs": [
    {
     "data": {
      "text/plain": [
       "18072"
      ]
     },
     "execution_count": 28,
     "metadata": {},
     "output_type": "execute_result"
    }
   ],
   "source": [
    "##### UBER BAN\n",
    "# Date May 9 2016 - May 29 2017 \n",
    "# # To calculate the number of rides during UBER BAN in 2017\n",
    "\n",
    "## Number of bike rides during May 1st to May 29th 2017\n",
    "df_bike_2017 = df_bike_na.loc[(df_bike_na[\"Trip Year\"] ==2017), : ]\n",
    "df_bike_2017_may = df_bike_2017.loc[(df_bike_2017[\"Trip Month\"] == 5), : ]\n",
    "df_bike_2017_may_uber_ban = df_bike_2017_may.loc[(df_bike_2017_may[\"Trip Date\"] <= 29), : ]\n",
    "number_of_rides_uber_ban_2017 = df_bike_2017_may_uber_ban['Trip ID'].count()\n",
    "number_of_rides_uber_ban_2017 \n"
   ]
  },
  {
   "cell_type": "code",
   "execution_count": 29,
   "metadata": {},
   "outputs": [
    {
     "data": {
      "text/plain": [
       "72995"
      ]
     },
     "execution_count": 29,
     "metadata": {},
     "output_type": "execute_result"
    }
   ],
   "source": [
    "# Number of bike rides from Jan 1st to 30th April 2017\n",
    "df_bike_2017 = df_bike_na.loc[(df_bike_na[\"Trip Year\"] ==2017), : ]\n",
    "df_bike_2017_till_april_uber_ban = df_bike_2017.loc[(df_bike_2017[\"Trip Month\"] < 5), : ]\n",
    "number_of_rides_uber_ban_2017_till_april = df_bike_2017_till_april_uber_ban['Trip ID'].count()\n",
    "number_of_rides_uber_ban_2017_till_april "
   ]
  },
  {
   "cell_type": "code",
   "execution_count": 30,
   "metadata": {},
   "outputs": [
    {
     "data": {
      "text/plain": [
       "100038"
      ]
     },
     "execution_count": 30,
     "metadata": {},
     "output_type": "execute_result"
    }
   ],
   "source": [
    "## Number of bike rides during June 1st to Dec 31st 2016\n",
    "df_bike_2016 = df_bike_na.loc[(df_bike_na[\"Trip Year\"] ==2016), : ]\n",
    "df_bike_2016_till_june_uber_ban = df_bike_2016.loc[(df_bike_2016[\"Trip Month\"] >= 6) & (df_bike_2016[\"Trip Month\"] <= 12), : ]\n",
    "number_of_rides_uber_ban_2016_till_august = df_bike_2016_till_june_uber_ban['Trip ID'].count()\n",
    "number_of_rides_uber_ban_2016_till_august "
   ]
  },
  {
   "cell_type": "code",
   "execution_count": 31,
   "metadata": {},
   "outputs": [
    {
     "data": {
      "text/plain": [
       "15067"
      ]
     },
     "execution_count": 31,
     "metadata": {},
     "output_type": "execute_result"
    }
   ],
   "source": [
    "# To calculate the number of rides from May 9th to May 31st 2016\n",
    "df_bike_2016 = df_bike_na.loc[(df_bike_na[\"Trip Year\"] ==2016), : ]\n",
    "df_bike_2016_may = df_bike_2016.loc[(df_bike_2016[\"Trip Month\"] == 5), : ]\n",
    "df_bike_2016_may_uber_ban = df_bike_2016_may.loc[(df_bike_2016_may[\"Trip Date\"] >= 9), : ]\n",
    "number_of_rides_uber_ban_2016 = df_bike_2016_may_uber_ban['Trip ID'].count()\n",
    "number_of_rides_uber_ban_2016 "
   ]
  },
  {
   "cell_type": "code",
   "execution_count": 32,
   "metadata": {},
   "outputs": [
    {
     "data": {
      "text/plain": [
       "206172"
      ]
     },
     "execution_count": 32,
     "metadata": {},
     "output_type": "execute_result"
    }
   ],
   "source": [
    "number_of_rides_uber_ban = number_of_rides_uber_ban_2016 + number_of_rides_uber_ban_2017 + number_of_rides_uber_ban_2016_till_august+ number_of_rides_uber_ban_2017_till_april  \n",
    "number_of_rides_uber_ban\n",
    "\n",
    "# Number of rides during uber ban is greater than average number of rides per year"
   ]
  },
  {
   "cell_type": "code",
   "execution_count": 33,
   "metadata": {},
   "outputs": [
    {
     "data": {
      "text/plain": [
       "165211.83333333334"
      ]
     },
     "execution_count": 33,
     "metadata": {},
     "output_type": "execute_result"
    }
   ],
   "source": [
    "average_number_of_rides_per_year = number_of_rides_per_year.mean()\n",
    "average_number_of_rides_per_year"
   ]
  },
  {
   "cell_type": "code",
   "execution_count": null,
   "metadata": {},
   "outputs": [],
   "source": []
  }
 ],
 "metadata": {
  "kernelspec": {
   "display_name": "PythonData",
   "language": "python",
   "name": "pythondata"
  },
  "language_info": {
   "codemirror_mode": {
    "name": "ipython",
    "version": 3
   },
   "file_extension": ".py",
   "mimetype": "text/x-python",
   "name": "python",
   "nbconvert_exporter": "python",
   "pygments_lexer": "ipython3",
   "version": "3.6.5"
  }
 },
 "nbformat": 4,
 "nbformat_minor": 2
}
