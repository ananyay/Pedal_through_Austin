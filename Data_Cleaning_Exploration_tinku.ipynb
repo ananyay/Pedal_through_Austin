{
 "cells": [
  {
   "cell_type": "markdown",
   "metadata": {},
   "source": [
    "##  Dependencies and Read CSV\n",
    "\n",
    "* Most recent CSV taken from https://data.austintexas.gov/Transportation-and-Mobility/Austin-B-Cycle-Trips/tyfh-5r8s \n",
    "\n",
    "* Data Available \n",
    "    * Trip ID \n",
    "    * Membership Type \n",
    "    * Bicycle ID \n",
    "    * Checkout Time \n",
    "    * Checkout Kiosk ID\n",
    "    * Checkout Kiosk\n",
    "    * Return Kiosk ID\n",
    "    * Trip Duration Minutes\n",
    "    * Month\n",
    "    * Year"
   ]
  },
  {
   "cell_type": "code",
   "execution_count": 1,
   "metadata": {},
   "outputs": [],
   "source": [
    "# Import Dependencies\n",
    "import numpy as np \n",
    "import pandas as pd \n",
    "import matplotlib.pyplot as plt\n",
    "\n",
    "# Ignore Warnings as we are rewrititng values \n",
    "import warnings\n",
    "warnings.filterwarnings('ignore')"
   ]
  },
  {
   "cell_type": "code",
   "execution_count": 2,
   "metadata": {},
   "outputs": [],
   "source": [
    "# Read the CSV file using pandas and creating a dataframe \n",
    "df_bike = pd.read_csv(\"resources/austin_B-Cycle_Trips.csv\")\n"
   ]
  },
  {
   "cell_type": "code",
   "execution_count": 3,
   "metadata": {},
   "outputs": [
    {
     "data": {
      "text/html": [
       "<div>\n",
       "<style scoped>\n",
       "    .dataframe tbody tr th:only-of-type {\n",
       "        vertical-align: middle;\n",
       "    }\n",
       "\n",
       "    .dataframe tbody tr th {\n",
       "        vertical-align: top;\n",
       "    }\n",
       "\n",
       "    .dataframe thead th {\n",
       "        text-align: right;\n",
       "    }\n",
       "</style>\n",
       "<table border=\"1\" class=\"dataframe\">\n",
       "  <thead>\n",
       "    <tr style=\"text-align: right;\">\n",
       "      <th></th>\n",
       "      <th>Trip ID</th>\n",
       "      <th>Membership Type</th>\n",
       "      <th>Bicycle ID</th>\n",
       "      <th>Checkout Date</th>\n",
       "      <th>Checkout Time</th>\n",
       "      <th>Checkout Kiosk ID</th>\n",
       "      <th>Checkout Kiosk</th>\n",
       "      <th>Return Kiosk ID</th>\n",
       "      <th>Return Kiosk</th>\n",
       "      <th>Trip Duration Minutes</th>\n",
       "      <th>Month</th>\n",
       "      <th>Year</th>\n",
       "    </tr>\n",
       "  </thead>\n",
       "  <tbody>\n",
       "    <tr>\n",
       "      <th>0</th>\n",
       "      <td>9900285854</td>\n",
       "      <td>Annual (San Antonio B-cycle)</td>\n",
       "      <td>207.0</td>\n",
       "      <td>10/26/2014</td>\n",
       "      <td>13:12:00</td>\n",
       "      <td>2537.0</td>\n",
       "      <td>West &amp; 6th St.</td>\n",
       "      <td>2707.0</td>\n",
       "      <td>Rainey St @ Cummings</td>\n",
       "      <td>76</td>\n",
       "      <td>10.0</td>\n",
       "      <td>2014.0</td>\n",
       "    </tr>\n",
       "    <tr>\n",
       "      <th>1</th>\n",
       "      <td>9900285855</td>\n",
       "      <td>24-Hour Kiosk (Austin B-cycle)</td>\n",
       "      <td>969.0</td>\n",
       "      <td>10/26/2014</td>\n",
       "      <td>13:12:00</td>\n",
       "      <td>2498.0</td>\n",
       "      <td>Convention Center / 4th St. @ MetroRail</td>\n",
       "      <td>2566.0</td>\n",
       "      <td>Pfluger Bridge @ W 2nd Street</td>\n",
       "      <td>58</td>\n",
       "      <td>10.0</td>\n",
       "      <td>2014.0</td>\n",
       "    </tr>\n",
       "    <tr>\n",
       "      <th>2</th>\n",
       "      <td>9900285856</td>\n",
       "      <td>Annual Membership (Austin B-cycle)</td>\n",
       "      <td>214.0</td>\n",
       "      <td>10/26/2014</td>\n",
       "      <td>13:12:00</td>\n",
       "      <td>2537.0</td>\n",
       "      <td>West &amp; 6th St.</td>\n",
       "      <td>2496.0</td>\n",
       "      <td>8th &amp; Congress</td>\n",
       "      <td>8</td>\n",
       "      <td>10.0</td>\n",
       "      <td>2014.0</td>\n",
       "    </tr>\n",
       "    <tr>\n",
       "      <th>3</th>\n",
       "      <td>9900285857</td>\n",
       "      <td>24-Hour Kiosk (Austin B-cycle)</td>\n",
       "      <td>745.0</td>\n",
       "      <td>10/26/2014</td>\n",
       "      <td>13:12:00</td>\n",
       "      <td>NaN</td>\n",
       "      <td>Zilker Park at Barton Springs &amp; William Barton...</td>\n",
       "      <td>NaN</td>\n",
       "      <td>Zilker Park at Barton Springs &amp; William Barton...</td>\n",
       "      <td>28</td>\n",
       "      <td>10.0</td>\n",
       "      <td>2014.0</td>\n",
       "    </tr>\n",
       "    <tr>\n",
       "      <th>4</th>\n",
       "      <td>9900285858</td>\n",
       "      <td>24-Hour Kiosk (Austin B-cycle)</td>\n",
       "      <td>164.0</td>\n",
       "      <td>10/26/2014</td>\n",
       "      <td>13:12:00</td>\n",
       "      <td>2538.0</td>\n",
       "      <td>Bullock Museum @ Congress &amp; MLK</td>\n",
       "      <td>NaN</td>\n",
       "      <td>Convention Center/ 3rd &amp; Trinity</td>\n",
       "      <td>15</td>\n",
       "      <td>10.0</td>\n",
       "      <td>2014.0</td>\n",
       "    </tr>\n",
       "  </tbody>\n",
       "</table>\n",
       "</div>"
      ],
      "text/plain": [
       "      Trip ID                     Membership Type  Bicycle ID Checkout Date  \\\n",
       "0  9900285854        Annual (San Antonio B-cycle)       207.0    10/26/2014   \n",
       "1  9900285855      24-Hour Kiosk (Austin B-cycle)       969.0    10/26/2014   \n",
       "2  9900285856  Annual Membership (Austin B-cycle)       214.0    10/26/2014   \n",
       "3  9900285857      24-Hour Kiosk (Austin B-cycle)       745.0    10/26/2014   \n",
       "4  9900285858      24-Hour Kiosk (Austin B-cycle)       164.0    10/26/2014   \n",
       "\n",
       "  Checkout Time  Checkout Kiosk ID  \\\n",
       "0      13:12:00             2537.0   \n",
       "1      13:12:00             2498.0   \n",
       "2      13:12:00             2537.0   \n",
       "3      13:12:00                NaN   \n",
       "4      13:12:00             2538.0   \n",
       "\n",
       "                                      Checkout Kiosk  Return Kiosk ID  \\\n",
       "0                                     West & 6th St.           2707.0   \n",
       "1            Convention Center / 4th St. @ MetroRail           2566.0   \n",
       "2                                     West & 6th St.           2496.0   \n",
       "3  Zilker Park at Barton Springs & William Barton...              NaN   \n",
       "4                    Bullock Museum @ Congress & MLK              NaN   \n",
       "\n",
       "                                        Return Kiosk  Trip Duration Minutes  \\\n",
       "0                               Rainey St @ Cummings                     76   \n",
       "1                      Pfluger Bridge @ W 2nd Street                     58   \n",
       "2                                     8th & Congress                      8   \n",
       "3  Zilker Park at Barton Springs & William Barton...                     28   \n",
       "4                   Convention Center/ 3rd & Trinity                     15   \n",
       "\n",
       "   Month    Year  \n",
       "0   10.0  2014.0  \n",
       "1   10.0  2014.0  \n",
       "2   10.0  2014.0  \n",
       "3   10.0  2014.0  \n",
       "4   10.0  2014.0  "
      ]
     },
     "execution_count": 3,
     "metadata": {},
     "output_type": "execute_result"
    }
   ],
   "source": [
    "# Display the top rows of the dataframe \n",
    "df_bike.head()\n"
   ]
  },
  {
   "cell_type": "markdown",
   "metadata": {},
   "source": [
    "## Initial Data Exploration \n",
    "\n",
    "On an initial exploration of the data we see that the columns month, year, membership type, bicycle id, return kiosk id, and check out kiosk id are missing values. It does not necessarily mean that the data is not present. It just needs to be extracted and reformatted. "
   ]
  },
  {
   "cell_type": "code",
   "execution_count": 4,
   "metadata": {},
   "outputs": [
    {
     "data": {
      "text/plain": [
       "(991271, 12)"
      ]
     },
     "execution_count": 4,
     "metadata": {},
     "output_type": "execute_result"
    }
   ],
   "source": [
    "# Count rows and columns \n",
    "df_bike.shape"
   ]
  },
  {
   "cell_type": "code",
   "execution_count": 5,
   "metadata": {},
   "outputs": [
    {
     "data": {
      "text/plain": [
       "Trip ID                  991271\n",
       "Membership Type          984960\n",
       "Bicycle ID               990548\n",
       "Checkout Date            991271\n",
       "Checkout Time            991271\n",
       "Checkout Kiosk ID        968117\n",
       "Checkout Kiosk           991271\n",
       "Return Kiosk ID          966858\n",
       "Return Kiosk             991271\n",
       "Trip Duration Minutes    991271\n",
       "Month                    618479\n",
       "Year                     618479\n",
       "dtype: int64"
      ]
     },
     "execution_count": 5,
     "metadata": {},
     "output_type": "execute_result"
    }
   ],
   "source": [
    "# Check for missing values \n",
    "df_bike.count()"
   ]
  },
  {
   "cell_type": "code",
   "execution_count": 6,
   "metadata": {},
   "outputs": [
    {
     "data": {
      "text/html": [
       "<div>\n",
       "<style scoped>\n",
       "    .dataframe tbody tr th:only-of-type {\n",
       "        vertical-align: middle;\n",
       "    }\n",
       "\n",
       "    .dataframe tbody tr th {\n",
       "        vertical-align: top;\n",
       "    }\n",
       "\n",
       "    .dataframe thead th {\n",
       "        text-align: right;\n",
       "    }\n",
       "</style>\n",
       "<table border=\"1\" class=\"dataframe\">\n",
       "  <thead>\n",
       "    <tr style=\"text-align: right;\">\n",
       "      <th></th>\n",
       "      <th>Trip ID</th>\n",
       "      <th>Membership Type</th>\n",
       "      <th>Bicycle ID</th>\n",
       "      <th>Checkout Date</th>\n",
       "      <th>Checkout Time</th>\n",
       "      <th>Checkout Kiosk ID</th>\n",
       "      <th>Checkout Kiosk</th>\n",
       "      <th>Return Kiosk ID</th>\n",
       "      <th>Return Kiosk</th>\n",
       "      <th>Trip Duration Minutes</th>\n",
       "      <th>Month</th>\n",
       "      <th>Year</th>\n",
       "    </tr>\n",
       "  </thead>\n",
       "  <tbody>\n",
       "    <tr>\n",
       "      <th>991266</th>\n",
       "      <td>18013687</td>\n",
       "      <td>Local30</td>\n",
       "      <td>2828.0</td>\n",
       "      <td>7/20/2018</td>\n",
       "      <td>20:24:42</td>\n",
       "      <td>2566.0</td>\n",
       "      <td>Pfluger Bridge @ W 2nd Street</td>\n",
       "      <td>3685.0</td>\n",
       "      <td>Henderson &amp; 9th</td>\n",
       "      <td>6</td>\n",
       "      <td>NaN</td>\n",
       "      <td>NaN</td>\n",
       "    </tr>\n",
       "    <tr>\n",
       "      <th>991267</th>\n",
       "      <td>18048048</td>\n",
       "      <td>Local30</td>\n",
       "      <td>447.0</td>\n",
       "      <td>7/24/2018</td>\n",
       "      <td>15:12:54</td>\n",
       "      <td>2707.0</td>\n",
       "      <td>Rainey St @ Cummings</td>\n",
       "      <td>2552.0</td>\n",
       "      <td>3rd &amp; West</td>\n",
       "      <td>7</td>\n",
       "      <td>NaN</td>\n",
       "      <td>NaN</td>\n",
       "    </tr>\n",
       "    <tr>\n",
       "      <th>991268</th>\n",
       "      <td>17988798</td>\n",
       "      <td>U.T. Student Membership</td>\n",
       "      <td>472.0</td>\n",
       "      <td>7/18/2018</td>\n",
       "      <td>9:59:11</td>\n",
       "      <td>3838.0</td>\n",
       "      <td>Nueces &amp; 26th</td>\n",
       "      <td>3798.0</td>\n",
       "      <td>21st &amp; Speedway @PCL</td>\n",
       "      <td>6</td>\n",
       "      <td>NaN</td>\n",
       "      <td>NaN</td>\n",
       "    </tr>\n",
       "    <tr>\n",
       "      <th>991269</th>\n",
       "      <td>17902063</td>\n",
       "      <td>U.T. Student Membership</td>\n",
       "      <td>220.0</td>\n",
       "      <td>7/9/2018</td>\n",
       "      <td>11:50:26</td>\n",
       "      <td>2547.0</td>\n",
       "      <td>Guadalupe &amp; 21st</td>\n",
       "      <td>3792.0</td>\n",
       "      <td>22nd &amp; Pearl</td>\n",
       "      <td>2</td>\n",
       "      <td>NaN</td>\n",
       "      <td>NaN</td>\n",
       "    </tr>\n",
       "    <tr>\n",
       "      <th>991270</th>\n",
       "      <td>18007218</td>\n",
       "      <td>Local30</td>\n",
       "      <td>666.0</td>\n",
       "      <td>7/20/2018</td>\n",
       "      <td>8:38:40</td>\n",
       "      <td>3621.0</td>\n",
       "      <td>Nueces &amp; 3rd</td>\n",
       "      <td>2495.0</td>\n",
       "      <td>4th &amp; Congress</td>\n",
       "      <td>5</td>\n",
       "      <td>NaN</td>\n",
       "      <td>NaN</td>\n",
       "    </tr>\n",
       "  </tbody>\n",
       "</table>\n",
       "</div>"
      ],
      "text/plain": [
       "         Trip ID          Membership Type  Bicycle ID Checkout Date  \\\n",
       "991266  18013687                  Local30      2828.0     7/20/2018   \n",
       "991267  18048048                  Local30       447.0     7/24/2018   \n",
       "991268  17988798  U.T. Student Membership       472.0     7/18/2018   \n",
       "991269  17902063  U.T. Student Membership       220.0      7/9/2018   \n",
       "991270  18007218                  Local30       666.0     7/20/2018   \n",
       "\n",
       "       Checkout Time  Checkout Kiosk ID                 Checkout Kiosk  \\\n",
       "991266      20:24:42             2566.0  Pfluger Bridge @ W 2nd Street   \n",
       "991267      15:12:54             2707.0           Rainey St @ Cummings   \n",
       "991268       9:59:11             3838.0                  Nueces & 26th   \n",
       "991269      11:50:26             2547.0               Guadalupe & 21st   \n",
       "991270       8:38:40             3621.0                   Nueces & 3rd   \n",
       "\n",
       "        Return Kiosk ID          Return Kiosk  Trip Duration Minutes  Month  \\\n",
       "991266           3685.0       Henderson & 9th                      6    NaN   \n",
       "991267           2552.0            3rd & West                      7    NaN   \n",
       "991268           3798.0  21st & Speedway @PCL                      6    NaN   \n",
       "991269           3792.0          22nd & Pearl                      2    NaN   \n",
       "991270           2495.0        4th & Congress                      5    NaN   \n",
       "\n",
       "        Year  \n",
       "991266   NaN  \n",
       "991267   NaN  \n",
       "991268   NaN  \n",
       "991269   NaN  \n",
       "991270   NaN  "
      ]
     },
     "execution_count": 6,
     "metadata": {},
     "output_type": "execute_result"
    }
   ],
   "source": [
    "# We see that the last values of our dataframe are missing the month and year\n",
    "df_bike.tail()"
   ]
  },
  {
   "cell_type": "code",
   "execution_count": 7,
   "metadata": {},
   "outputs": [
    {
     "data": {
      "text/plain": [
       "372792"
      ]
     },
     "execution_count": 7,
     "metadata": {},
     "output_type": "execute_result"
    }
   ],
   "source": [
    "## checking how many rows for months and year are missing\n",
    "df_bike[\"Year\"].isnull().sum()"
   ]
  },
  {
   "cell_type": "code",
   "execution_count": 8,
   "metadata": {},
   "outputs": [
    {
     "data": {
      "text/plain": [
       "372792"
      ]
     },
     "execution_count": 8,
     "metadata": {},
     "output_type": "execute_result"
    }
   ],
   "source": [
    "df_bike[\"Month\"].isnull().sum()"
   ]
  },
  {
   "cell_type": "code",
   "execution_count": 9,
   "metadata": {},
   "outputs": [
    {
     "data": {
      "text/plain": [
       "6311"
      ]
     },
     "execution_count": 9,
     "metadata": {},
     "output_type": "execute_result"
    }
   ],
   "source": [
    "# Check misisng membership type count\n",
    "df_bike[\"Membership Type\"].isnull().sum()"
   ]
  },
  {
   "cell_type": "code",
   "execution_count": 10,
   "metadata": {},
   "outputs": [
    {
     "data": {
      "text/plain": [
       "723"
      ]
     },
     "execution_count": 10,
     "metadata": {},
     "output_type": "execute_result"
    }
   ],
   "source": [
    "# Check missing bicycle id count\n",
    "df_bike[\"Bicycle ID\"].isnull().sum()"
   ]
  },
  {
   "cell_type": "code",
   "execution_count": 11,
   "metadata": {},
   "outputs": [
    {
     "data": {
      "text/plain": [
       "Trip ID                    int64\n",
       "Membership Type           object\n",
       "Bicycle ID               float64\n",
       "Checkout Date             object\n",
       "Checkout Time             object\n",
       "Checkout Kiosk ID        float64\n",
       "Checkout Kiosk            object\n",
       "Return Kiosk ID          float64\n",
       "Return Kiosk              object\n",
       "Trip Duration Minutes      int64\n",
       "Month                    float64\n",
       "Year                     float64\n",
       "dtype: object"
      ]
     },
     "execution_count": 11,
     "metadata": {},
     "output_type": "execute_result"
    }
   ],
   "source": [
    "# Check the data types \n",
    "df_bike.dtypes"
   ]
  },
  {
   "cell_type": "markdown",
   "metadata": {},
   "source": [
    "## Initial Data Clean Up\n",
    "\n",
    "In this section we create a new data frame with the needed values.\n",
    "1.\tSince we are missing kiosk ID's but we have the kiosk names available, we can make a new data frame without having to drop the rows of missing kiosk id's.\n",
    "\n",
    "2.\tWe need to extract the year, month and date from check out date, to fill in the missing values in the Month and Year column.\n",
    "\n",
    "3.\tWe can extract the hour from Check Out time for future analysis.\n",
    "\n"
   ]
  },
  {
   "cell_type": "code",
   "execution_count": 98,
   "metadata": {},
   "outputs": [],
   "source": [
    "df_bike_clean = df_bike"
   ]
  },
  {
   "cell_type": "code",
   "execution_count": 40,
   "metadata": {},
   "outputs": [
    {
     "data": {
      "text/plain": [
       "Trip ID                  991271\n",
       "Membership Type          984960\n",
       "Bicycle ID               990548\n",
       "Checkout Date            991271\n",
       "Checkout Time            991271\n",
       "Checkout Kiosk ID        968117\n",
       "Checkout Kiosk           991271\n",
       "Return Kiosk ID          966858\n",
       "Return Kiosk             991271\n",
       "Trip Duration Minutes    991271\n",
       "Month                    618479\n",
       "Year                     618479\n",
       "dtype: int64"
      ]
     },
     "execution_count": 40,
     "metadata": {},
     "output_type": "execute_result"
    }
   ],
   "source": [
    "# So now we see that we have a check out date that matches the number of trips taken \n",
    "df_bike_clean.count()"
   ]
  },
  {
   "cell_type": "code",
   "execution_count": 41,
   "metadata": {},
   "outputs": [],
   "source": [
    "# We see take the Checkout Date and extract the Month, Year, and Day of the Week \n",
    "\n",
    "df_bike_clean['Checkout Date'] = pd.to_datetime(df_bike_clean['Checkout Date']) \n",
    "df_bike_clean['Year'] = df_bike_clean['Checkout Date'].dt.year\n",
    "df_bike_clean['Month'] = df_bike_clean['Checkout Date'].dt.month\n",
    "df_bike_clean['Trip Date'] = df_bike_clean['Checkout Date'].dt.day\n",
    "df_bike_clean['Trip Day of Week'] = df_bike_clean['Checkout Date'].dt.weekday_name\n",
    "\n"
   ]
  },
  {
   "cell_type": "code",
   "execution_count": 42,
   "metadata": {},
   "outputs": [
    {
     "data": {
      "text/html": [
       "<div>\n",
       "<style scoped>\n",
       "    .dataframe tbody tr th:only-of-type {\n",
       "        vertical-align: middle;\n",
       "    }\n",
       "\n",
       "    .dataframe tbody tr th {\n",
       "        vertical-align: top;\n",
       "    }\n",
       "\n",
       "    .dataframe thead th {\n",
       "        text-align: right;\n",
       "    }\n",
       "</style>\n",
       "<table border=\"1\" class=\"dataframe\">\n",
       "  <thead>\n",
       "    <tr style=\"text-align: right;\">\n",
       "      <th></th>\n",
       "      <th>Trip ID</th>\n",
       "      <th>Membership Type</th>\n",
       "      <th>Bicycle ID</th>\n",
       "      <th>Checkout Date</th>\n",
       "      <th>Checkout Time</th>\n",
       "      <th>Checkout Kiosk ID</th>\n",
       "      <th>Checkout Kiosk</th>\n",
       "      <th>Return Kiosk ID</th>\n",
       "      <th>Return Kiosk</th>\n",
       "      <th>Trip Duration Minutes</th>\n",
       "      <th>Month</th>\n",
       "      <th>Year</th>\n",
       "      <th>Trip Date</th>\n",
       "      <th>Trip Day of Week</th>\n",
       "    </tr>\n",
       "  </thead>\n",
       "  <tbody>\n",
       "    <tr>\n",
       "      <th>991266</th>\n",
       "      <td>18013687</td>\n",
       "      <td>Local30</td>\n",
       "      <td>2828.0</td>\n",
       "      <td>2018-07-20</td>\n",
       "      <td>20:24:42</td>\n",
       "      <td>2566.0</td>\n",
       "      <td>Pfluger Bridge @ W 2nd Street</td>\n",
       "      <td>3685.0</td>\n",
       "      <td>Henderson &amp; 9th</td>\n",
       "      <td>6</td>\n",
       "      <td>7</td>\n",
       "      <td>2018</td>\n",
       "      <td>20</td>\n",
       "      <td>Friday</td>\n",
       "    </tr>\n",
       "    <tr>\n",
       "      <th>991267</th>\n",
       "      <td>18048048</td>\n",
       "      <td>Local30</td>\n",
       "      <td>447.0</td>\n",
       "      <td>2018-07-24</td>\n",
       "      <td>15:12:54</td>\n",
       "      <td>2707.0</td>\n",
       "      <td>Rainey St @ Cummings</td>\n",
       "      <td>2552.0</td>\n",
       "      <td>3rd &amp; West</td>\n",
       "      <td>7</td>\n",
       "      <td>7</td>\n",
       "      <td>2018</td>\n",
       "      <td>24</td>\n",
       "      <td>Tuesday</td>\n",
       "    </tr>\n",
       "    <tr>\n",
       "      <th>991268</th>\n",
       "      <td>17988798</td>\n",
       "      <td>U.T. Student Membership</td>\n",
       "      <td>472.0</td>\n",
       "      <td>2018-07-18</td>\n",
       "      <td>9:59:11</td>\n",
       "      <td>3838.0</td>\n",
       "      <td>Nueces &amp; 26th</td>\n",
       "      <td>3798.0</td>\n",
       "      <td>21st &amp; Speedway @PCL</td>\n",
       "      <td>6</td>\n",
       "      <td>7</td>\n",
       "      <td>2018</td>\n",
       "      <td>18</td>\n",
       "      <td>Wednesday</td>\n",
       "    </tr>\n",
       "    <tr>\n",
       "      <th>991269</th>\n",
       "      <td>17902063</td>\n",
       "      <td>U.T. Student Membership</td>\n",
       "      <td>220.0</td>\n",
       "      <td>2018-07-09</td>\n",
       "      <td>11:50:26</td>\n",
       "      <td>2547.0</td>\n",
       "      <td>Guadalupe &amp; 21st</td>\n",
       "      <td>3792.0</td>\n",
       "      <td>22nd &amp; Pearl</td>\n",
       "      <td>2</td>\n",
       "      <td>7</td>\n",
       "      <td>2018</td>\n",
       "      <td>9</td>\n",
       "      <td>Monday</td>\n",
       "    </tr>\n",
       "    <tr>\n",
       "      <th>991270</th>\n",
       "      <td>18007218</td>\n",
       "      <td>Local30</td>\n",
       "      <td>666.0</td>\n",
       "      <td>2018-07-20</td>\n",
       "      <td>8:38:40</td>\n",
       "      <td>3621.0</td>\n",
       "      <td>Nueces &amp; 3rd</td>\n",
       "      <td>2495.0</td>\n",
       "      <td>4th &amp; Congress</td>\n",
       "      <td>5</td>\n",
       "      <td>7</td>\n",
       "      <td>2018</td>\n",
       "      <td>20</td>\n",
       "      <td>Friday</td>\n",
       "    </tr>\n",
       "  </tbody>\n",
       "</table>\n",
       "</div>"
      ],
      "text/plain": [
       "         Trip ID          Membership Type  Bicycle ID Checkout Date  \\\n",
       "991266  18013687                  Local30      2828.0    2018-07-20   \n",
       "991267  18048048                  Local30       447.0    2018-07-24   \n",
       "991268  17988798  U.T. Student Membership       472.0    2018-07-18   \n",
       "991269  17902063  U.T. Student Membership       220.0    2018-07-09   \n",
       "991270  18007218                  Local30       666.0    2018-07-20   \n",
       "\n",
       "       Checkout Time  Checkout Kiosk ID                 Checkout Kiosk  \\\n",
       "991266      20:24:42             2566.0  Pfluger Bridge @ W 2nd Street   \n",
       "991267      15:12:54             2707.0           Rainey St @ Cummings   \n",
       "991268       9:59:11             3838.0                  Nueces & 26th   \n",
       "991269      11:50:26             2547.0               Guadalupe & 21st   \n",
       "991270       8:38:40             3621.0                   Nueces & 3rd   \n",
       "\n",
       "        Return Kiosk ID          Return Kiosk  Trip Duration Minutes  Month  \\\n",
       "991266           3685.0       Henderson & 9th                      6      7   \n",
       "991267           2552.0            3rd & West                      7      7   \n",
       "991268           3798.0  21st & Speedway @PCL                      6      7   \n",
       "991269           3792.0          22nd & Pearl                      2      7   \n",
       "991270           2495.0        4th & Congress                      5      7   \n",
       "\n",
       "        Year  Trip Date Trip Day of Week  \n",
       "991266  2018         20           Friday  \n",
       "991267  2018         24          Tuesday  \n",
       "991268  2018         18        Wednesday  \n",
       "991269  2018          9           Monday  \n",
       "991270  2018         20           Friday  "
      ]
     },
     "execution_count": 42,
     "metadata": {},
     "output_type": "execute_result"
    }
   ],
   "source": [
    "# Inspect the filled in values \n",
    "df_bike_clean.tail()"
   ]
  },
  {
   "cell_type": "code",
   "execution_count": 43,
   "metadata": {},
   "outputs": [
    {
     "data": {
      "text/html": [
       "<div>\n",
       "<style scoped>\n",
       "    .dataframe tbody tr th:only-of-type {\n",
       "        vertical-align: middle;\n",
       "    }\n",
       "\n",
       "    .dataframe tbody tr th {\n",
       "        vertical-align: top;\n",
       "    }\n",
       "\n",
       "    .dataframe thead th {\n",
       "        text-align: right;\n",
       "    }\n",
       "</style>\n",
       "<table border=\"1\" class=\"dataframe\">\n",
       "  <thead>\n",
       "    <tr style=\"text-align: right;\">\n",
       "      <th></th>\n",
       "      <th>Trip ID</th>\n",
       "      <th>Membership Type</th>\n",
       "      <th>Bicycle ID</th>\n",
       "      <th>Checkout Date</th>\n",
       "      <th>Checkout Time</th>\n",
       "      <th>Checkout Kiosk ID</th>\n",
       "      <th>Checkout Kiosk</th>\n",
       "      <th>Return Kiosk ID</th>\n",
       "      <th>Return Kiosk</th>\n",
       "      <th>Trip Duration Minutes</th>\n",
       "      <th>Month</th>\n",
       "      <th>Year</th>\n",
       "      <th>Trip Date</th>\n",
       "      <th>Trip Day of Week</th>\n",
       "      <th>Trip Hour</th>\n",
       "    </tr>\n",
       "  </thead>\n",
       "  <tbody>\n",
       "    <tr>\n",
       "      <th>0</th>\n",
       "      <td>9900285854</td>\n",
       "      <td>Annual (San Antonio B-cycle)</td>\n",
       "      <td>207.0</td>\n",
       "      <td>2014-10-26</td>\n",
       "      <td>13:12:00</td>\n",
       "      <td>2537.0</td>\n",
       "      <td>West &amp; 6th St.</td>\n",
       "      <td>2707.0</td>\n",
       "      <td>Rainey St @ Cummings</td>\n",
       "      <td>76</td>\n",
       "      <td>10</td>\n",
       "      <td>2014</td>\n",
       "      <td>26</td>\n",
       "      <td>Sunday</td>\n",
       "      <td>13</td>\n",
       "    </tr>\n",
       "  </tbody>\n",
       "</table>\n",
       "</div>"
      ],
      "text/plain": [
       "      Trip ID               Membership Type  Bicycle ID Checkout Date  \\\n",
       "0  9900285854  Annual (San Antonio B-cycle)       207.0    2014-10-26   \n",
       "\n",
       "  Checkout Time  Checkout Kiosk ID  Checkout Kiosk  Return Kiosk ID  \\\n",
       "0      13:12:00             2537.0  West & 6th St.           2707.0   \n",
       "\n",
       "           Return Kiosk  Trip Duration Minutes  Month  Year  Trip Date  \\\n",
       "0  Rainey St @ Cummings                     76     10  2014         26   \n",
       "\n",
       "  Trip Day of Week  Trip Hour  \n",
       "0           Sunday         13  "
      ]
     },
     "execution_count": 43,
     "metadata": {},
     "output_type": "execute_result"
    }
   ],
   "source": [
    "# Split the hour from the checkout time\n",
    "checkout_time = pd.to_datetime(df_bike_clean['Checkout Time'],infer_datetime_format=True)\n",
    "df_bike_clean['time'] = checkout_time.dt.time\n",
    "df_bike_clean['Trip Hour'] = checkout_time.dt.hour\n",
    "df_bike_clean.drop(columns='time',inplace = True)\n",
    "df_bike_clean.head(1)\n"
   ]
  },
  {
   "cell_type": "code",
   "execution_count": 44,
   "metadata": {},
   "outputs": [
    {
     "data": {
      "text/html": [
       "<div>\n",
       "<style scoped>\n",
       "    .dataframe tbody tr th:only-of-type {\n",
       "        vertical-align: middle;\n",
       "    }\n",
       "\n",
       "    .dataframe tbody tr th {\n",
       "        vertical-align: top;\n",
       "    }\n",
       "\n",
       "    .dataframe thead th {\n",
       "        text-align: right;\n",
       "    }\n",
       "</style>\n",
       "<table border=\"1\" class=\"dataframe\">\n",
       "  <thead>\n",
       "    <tr style=\"text-align: right;\">\n",
       "      <th></th>\n",
       "      <th>Trip ID</th>\n",
       "      <th>Membership Type</th>\n",
       "      <th>Bicycle ID</th>\n",
       "      <th>Checkout Date</th>\n",
       "      <th>Checkout Time</th>\n",
       "      <th>Checkout Kiosk ID</th>\n",
       "      <th>Checkout Kiosk</th>\n",
       "      <th>Return Kiosk ID</th>\n",
       "      <th>Return Kiosk</th>\n",
       "      <th>Trip Duration Minutes</th>\n",
       "      <th>Month</th>\n",
       "      <th>Year</th>\n",
       "      <th>Trip Date</th>\n",
       "      <th>Trip Day of Week</th>\n",
       "      <th>Trip Hour</th>\n",
       "    </tr>\n",
       "  </thead>\n",
       "  <tbody>\n",
       "    <tr>\n",
       "      <th>0</th>\n",
       "      <td>9900285854</td>\n",
       "      <td>Annual (San Antonio B-cycle)</td>\n",
       "      <td>207.0</td>\n",
       "      <td>2014-10-26</td>\n",
       "      <td>13:12:00</td>\n",
       "      <td>2537.0</td>\n",
       "      <td>West &amp; 6th St.</td>\n",
       "      <td>2707.0</td>\n",
       "      <td>Rainey St @ Cummings</td>\n",
       "      <td>76</td>\n",
       "      <td>10</td>\n",
       "      <td>2014</td>\n",
       "      <td>26</td>\n",
       "      <td>Sunday</td>\n",
       "      <td>13</td>\n",
       "    </tr>\n",
       "    <tr>\n",
       "      <th>1</th>\n",
       "      <td>9900285855</td>\n",
       "      <td>24-Hour Kiosk (Austin B-cycle)</td>\n",
       "      <td>969.0</td>\n",
       "      <td>2014-10-26</td>\n",
       "      <td>13:12:00</td>\n",
       "      <td>2498.0</td>\n",
       "      <td>Convention Center / 4th St. @ MetroRail</td>\n",
       "      <td>2566.0</td>\n",
       "      <td>Pfluger Bridge @ W 2nd Street</td>\n",
       "      <td>58</td>\n",
       "      <td>10</td>\n",
       "      <td>2014</td>\n",
       "      <td>26</td>\n",
       "      <td>Sunday</td>\n",
       "      <td>13</td>\n",
       "    </tr>\n",
       "    <tr>\n",
       "      <th>2</th>\n",
       "      <td>9900285856</td>\n",
       "      <td>Annual Membership (Austin B-cycle)</td>\n",
       "      <td>214.0</td>\n",
       "      <td>2014-10-26</td>\n",
       "      <td>13:12:00</td>\n",
       "      <td>2537.0</td>\n",
       "      <td>West &amp; 6th St.</td>\n",
       "      <td>2496.0</td>\n",
       "      <td>8th &amp; Congress</td>\n",
       "      <td>8</td>\n",
       "      <td>10</td>\n",
       "      <td>2014</td>\n",
       "      <td>26</td>\n",
       "      <td>Sunday</td>\n",
       "      <td>13</td>\n",
       "    </tr>\n",
       "    <tr>\n",
       "      <th>3</th>\n",
       "      <td>9900285857</td>\n",
       "      <td>24-Hour Kiosk (Austin B-cycle)</td>\n",
       "      <td>745.0</td>\n",
       "      <td>2014-10-26</td>\n",
       "      <td>13:12:00</td>\n",
       "      <td>NaN</td>\n",
       "      <td>Zilker Park at Barton Springs &amp; William Barton...</td>\n",
       "      <td>NaN</td>\n",
       "      <td>Zilker Park at Barton Springs &amp; William Barton...</td>\n",
       "      <td>28</td>\n",
       "      <td>10</td>\n",
       "      <td>2014</td>\n",
       "      <td>26</td>\n",
       "      <td>Sunday</td>\n",
       "      <td>13</td>\n",
       "    </tr>\n",
       "    <tr>\n",
       "      <th>4</th>\n",
       "      <td>9900285858</td>\n",
       "      <td>24-Hour Kiosk (Austin B-cycle)</td>\n",
       "      <td>164.0</td>\n",
       "      <td>2014-10-26</td>\n",
       "      <td>13:12:00</td>\n",
       "      <td>2538.0</td>\n",
       "      <td>Bullock Museum @ Congress &amp; MLK</td>\n",
       "      <td>NaN</td>\n",
       "      <td>Convention Center/ 3rd &amp; Trinity</td>\n",
       "      <td>15</td>\n",
       "      <td>10</td>\n",
       "      <td>2014</td>\n",
       "      <td>26</td>\n",
       "      <td>Sunday</td>\n",
       "      <td>13</td>\n",
       "    </tr>\n",
       "  </tbody>\n",
       "</table>\n",
       "</div>"
      ],
      "text/plain": [
       "      Trip ID                     Membership Type  Bicycle ID Checkout Date  \\\n",
       "0  9900285854        Annual (San Antonio B-cycle)       207.0    2014-10-26   \n",
       "1  9900285855      24-Hour Kiosk (Austin B-cycle)       969.0    2014-10-26   \n",
       "2  9900285856  Annual Membership (Austin B-cycle)       214.0    2014-10-26   \n",
       "3  9900285857      24-Hour Kiosk (Austin B-cycle)       745.0    2014-10-26   \n",
       "4  9900285858      24-Hour Kiosk (Austin B-cycle)       164.0    2014-10-26   \n",
       "\n",
       "  Checkout Time  Checkout Kiosk ID  \\\n",
       "0      13:12:00             2537.0   \n",
       "1      13:12:00             2498.0   \n",
       "2      13:12:00             2537.0   \n",
       "3      13:12:00                NaN   \n",
       "4      13:12:00             2538.0   \n",
       "\n",
       "                                      Checkout Kiosk  Return Kiosk ID  \\\n",
       "0                                     West & 6th St.           2707.0   \n",
       "1            Convention Center / 4th St. @ MetroRail           2566.0   \n",
       "2                                     West & 6th St.           2496.0   \n",
       "3  Zilker Park at Barton Springs & William Barton...              NaN   \n",
       "4                    Bullock Museum @ Congress & MLK              NaN   \n",
       "\n",
       "                                        Return Kiosk  Trip Duration Minutes  \\\n",
       "0                               Rainey St @ Cummings                     76   \n",
       "1                      Pfluger Bridge @ W 2nd Street                     58   \n",
       "2                                     8th & Congress                      8   \n",
       "3  Zilker Park at Barton Springs & William Barton...                     28   \n",
       "4                   Convention Center/ 3rd & Trinity                     15   \n",
       "\n",
       "   Month  Year  Trip Date Trip Day of Week  Trip Hour  \n",
       "0     10  2014         26           Sunday         13  \n",
       "1     10  2014         26           Sunday         13  \n",
       "2     10  2014         26           Sunday         13  \n",
       "3     10  2014         26           Sunday         13  \n",
       "4     10  2014         26           Sunday         13  "
      ]
     },
     "execution_count": 44,
     "metadata": {},
     "output_type": "execute_result"
    }
   ],
   "source": [
    "# Inspect the filled in values \n",
    "df_bike_clean.head()"
   ]
  },
  {
   "cell_type": "code",
   "execution_count": 45,
   "metadata": {},
   "outputs": [
    {
     "data": {
      "text/plain": [
       "Trip ID                  991271\n",
       "Membership Type          984960\n",
       "Bicycle ID               990548\n",
       "Checkout Date            991271\n",
       "Checkout Time            991271\n",
       "Checkout Kiosk ID        968117\n",
       "Checkout Kiosk           991271\n",
       "Return Kiosk ID          966858\n",
       "Return Kiosk             991271\n",
       "Trip Duration Minutes    991271\n",
       "Month                    991271\n",
       "Year                     991271\n",
       "Trip Date                991271\n",
       "Trip Day of Week         991271\n",
       "Trip Hour                991271\n",
       "dtype: int64"
      ]
     },
     "execution_count": 45,
     "metadata": {},
     "output_type": "execute_result"
    }
   ],
   "source": [
    "# Check for missing values \n",
    "df_bike_clean.count()"
   ]
  },
  {
   "cell_type": "code",
   "execution_count": 46,
   "metadata": {},
   "outputs": [
    {
     "data": {
      "text/plain": [
       "Trip ID                           int64\n",
       "Membership Type                  object\n",
       "Bicycle ID                      float64\n",
       "Checkout Date            datetime64[ns]\n",
       "Checkout Time                    object\n",
       "Checkout Kiosk ID               float64\n",
       "Checkout Kiosk                   object\n",
       "Return Kiosk ID                 float64\n",
       "Return Kiosk                     object\n",
       "Trip Duration Minutes             int64\n",
       "Month                             int64\n",
       "Year                              int64\n",
       "Trip Date                         int64\n",
       "Trip Day of Week                 object\n",
       "Trip Hour                         int64\n",
       "dtype: object"
      ]
     },
     "execution_count": 46,
     "metadata": {},
     "output_type": "execute_result"
    }
   ],
   "source": [
    "# Verify Data types\n",
    "df_bike_clean.dtypes"
   ]
  },
  {
   "cell_type": "code",
   "execution_count": 47,
   "metadata": {},
   "outputs": [
    {
     "data": {
      "text/html": [
       "<div>\n",
       "<style scoped>\n",
       "    .dataframe tbody tr th:only-of-type {\n",
       "        vertical-align: middle;\n",
       "    }\n",
       "\n",
       "    .dataframe tbody tr th {\n",
       "        vertical-align: top;\n",
       "    }\n",
       "\n",
       "    .dataframe thead th {\n",
       "        text-align: right;\n",
       "    }\n",
       "</style>\n",
       "<table border=\"1\" class=\"dataframe\">\n",
       "  <thead>\n",
       "    <tr style=\"text-align: right;\">\n",
       "      <th></th>\n",
       "      <th>Trip ID</th>\n",
       "      <th>Membership Type</th>\n",
       "      <th>Bicycle ID</th>\n",
       "      <th>Checkout Date</th>\n",
       "      <th>Checkout Time</th>\n",
       "      <th>Checkout Station ID</th>\n",
       "      <th>Checkout Station</th>\n",
       "      <th>Return Station ID</th>\n",
       "      <th>Return Station</th>\n",
       "      <th>Trip Duration Minutes</th>\n",
       "      <th>Trip Month</th>\n",
       "      <th>Trip Year</th>\n",
       "      <th>Trip Date</th>\n",
       "      <th>Trip Day of Week</th>\n",
       "      <th>Trip Hour</th>\n",
       "    </tr>\n",
       "  </thead>\n",
       "  <tbody>\n",
       "    <tr>\n",
       "      <th>0</th>\n",
       "      <td>9900285854</td>\n",
       "      <td>Annual (San Antonio B-cycle)</td>\n",
       "      <td>207.0</td>\n",
       "      <td>2014-10-26</td>\n",
       "      <td>13:12:00</td>\n",
       "      <td>2537.0</td>\n",
       "      <td>West &amp; 6th St.</td>\n",
       "      <td>2707.0</td>\n",
       "      <td>Rainey St @ Cummings</td>\n",
       "      <td>76</td>\n",
       "      <td>10</td>\n",
       "      <td>2014</td>\n",
       "      <td>26</td>\n",
       "      <td>Sunday</td>\n",
       "      <td>13</td>\n",
       "    </tr>\n",
       "  </tbody>\n",
       "</table>\n",
       "</div>"
      ],
      "text/plain": [
       "      Trip ID               Membership Type  Bicycle ID Checkout Date  \\\n",
       "0  9900285854  Annual (San Antonio B-cycle)       207.0    2014-10-26   \n",
       "\n",
       "  Checkout Time  Checkout Station ID Checkout Station  Return Station ID  \\\n",
       "0      13:12:00               2537.0   West & 6th St.             2707.0   \n",
       "\n",
       "         Return Station  Trip Duration Minutes  Trip Month  Trip Year  \\\n",
       "0  Rainey St @ Cummings                     76          10       2014   \n",
       "\n",
       "   Trip Date Trip Day of Week  Trip Hour  \n",
       "0         26           Sunday         13  "
      ]
     },
     "execution_count": 47,
     "metadata": {},
     "output_type": "execute_result"
    }
   ],
   "source": [
    "## Renaming the Columns Name\n",
    "df_bike_clean = df_bike_clean.rename(columns = {\"Checkout Kiosk ID\":\"Checkout Station ID\",\"Checkout Kiosk\":\"Checkout Station\",\n",
    "                                          \"Return Kiosk ID\":\"Return Station ID\",\"Return Kiosk\":\"Return Station\",\n",
    "                                          \"Month\":\"Trip Month\",\"Year\":\"Trip Year\"})\n",
    "df_bike_clean.head(1) "
   ]
  },
  {
   "cell_type": "markdown",
   "metadata": {},
   "source": [
    "## Cleaning the column Trip Duration \n",
    "\n",
    "But we are not dropping the rows for our final clean csv file because even in these rows the Trip IDs are correct which we can use to count number of rides made for our analysis for other columns"
   ]
  },
  {
   "cell_type": "code",
   "execution_count": 48,
   "metadata": {},
   "outputs": [
    {
     "data": {
      "text/plain": [
       "23"
      ]
     },
     "execution_count": 48,
     "metadata": {},
     "output_type": "execute_result"
    }
   ],
   "source": [
    "## To check how many bikes were stolen\n",
    "## These bikes have unusally large trip duration\n",
    "df_bike_stolen = df_bike_clean.loc[df_bike_clean[\"Return Station\"] == \"Stolen\"]\n",
    "number_bike_stolen = df_bike_stolen[\"Return Station\"].count()\n",
    "number_bike_stolen"
   ]
  },
  {
   "cell_type": "code",
   "execution_count": 49,
   "metadata": {},
   "outputs": [
    {
     "data": {
      "text/plain": [
       "25"
      ]
     },
     "execution_count": 49,
     "metadata": {},
     "output_type": "execute_result"
    }
   ],
   "source": [
    "## To check how many bikes were missing\n",
    "## These bikes have unusally large trip duration\n",
    "df_bike_missing = df_bike_clean.loc[df_bike_clean[\"Return Station\"] == \"Missing\"]\n",
    "number_bike_missing = df_bike_missing[\"Return Station\"].count()\n",
    "number_bike_missing"
   ]
  },
  {
   "cell_type": "code",
   "execution_count": 50,
   "metadata": {},
   "outputs": [
    {
     "data": {
      "text/plain": [
       "19033"
      ]
     },
     "execution_count": 50,
     "metadata": {},
     "output_type": "execute_result"
    }
   ],
   "source": [
    "## To check how many bikes have trip duration has zero minutes\n",
    "df_bike_trip_minutes_zero = df_bike_clean.loc[df_bike_clean[\"Trip Duration Minutes\"] == 0]\n",
    "number_bike_trip_minutes_zero = df_bike_trip_minutes_zero[\"Trip ID\"].count()\n",
    "number_bike_trip_minutes_zero"
   ]
  },
  {
   "cell_type": "markdown",
   "metadata": {},
   "source": [
    "## Cleaning and data exploration of the Checkout Station ID and Checkout Station Column\n",
    "\n",
    "But we are not dropping the rows for our final clean csv file because even in these rows the Trip IDs are correct which we can use to count number of rides made for our analysis for other columns"
   ]
  },
  {
   "cell_type": "code",
   "execution_count": 51,
   "metadata": {},
   "outputs": [
    {
     "data": {
      "text/plain": [
       "23154"
      ]
     },
     "execution_count": 51,
     "metadata": {},
     "output_type": "execute_result"
    }
   ],
   "source": [
    "## To check how many Checkout Station ID are blank\n",
    "number_df_bike_checkout_id_blank  = df_bike_clean[\"Checkout Station ID\"].isnull().sum()\n",
    "number_df_bike_checkout_id_blank"
   ]
  },
  {
   "cell_type": "code",
   "execution_count": 74,
   "metadata": {},
   "outputs": [],
   "source": [
    "# # Filling the Na values with zero for exploration\n",
    "df_bike_na = df_bike_clean.fillna(0)"
   ]
  },
  {
   "cell_type": "code",
   "execution_count": 75,
   "metadata": {},
   "outputs": [
    {
     "data": {
      "text/plain": [
       "Zilker Park at Barton Springs & William Barton Drive    11534\n",
       "Dean Keeton & Speedway                                   3825\n",
       "ACC - West & 12th                                        2462\n",
       "Convention Center/ 3rd & Trinity                         1292\n",
       "Mobile Station                                           1183\n",
       "East 11th Street at Victory Grill                        1030\n",
       "Red River @ LBJ Library                                   584\n",
       "Mobile Station @ Bike Fest                                516\n",
       "Main Office                                               300\n",
       "Bullock Museum @ Congress & MLK                           172\n",
       "State Capitol @ 14th & Colorado                           111\n",
       "MapJam at Pan Am Park                                      32\n",
       "MapJam at French Legation                                  27\n",
       "MapJam at Hops & Grain Brewery                             19\n",
       "Repair Shop                                                15\n",
       "MapJam at Scoot Inn                                        11\n",
       "Shop                                                       10\n",
       "Mobile Station @ Boardwalk Opening Ceremony                 9\n",
       "Re-branding                                                 7\n",
       "Marketing Event                                             4\n",
       "Customer Service                                            4\n",
       "Mobile Station @ Unplugged                                  4\n",
       "Eeyore's 2018                                               2\n",
       "Eeyore's 2017                                               1\n",
       "Name: Checkout Station, dtype: int64"
      ]
     },
     "execution_count": 75,
     "metadata": {},
     "output_type": "execute_result"
    }
   ],
   "source": [
    "## To find which check out station have blank checkout IDs\n",
    "df_bike_checkout_id_blank = df_bike_na.loc[df_bike_na[\"Checkout Station ID\"] == 0]\n",
    "df_bike_checkout_id_blank[\"Checkout Station\"].value_counts()"
   ]
  },
  {
   "cell_type": "code",
   "execution_count": 70,
   "metadata": {},
   "outputs": [
    {
     "data": {
      "text/plain": [
       "21st & Speedway @PCL                           42167\n",
       "Riverside @ S. Lamar                           36988\n",
       "City Hall / Lavaca & 2nd                       34604\n",
       "2nd & Congress                                 33407\n",
       "5th & Bowie                                    32405\n",
       "Rainey St @ Cummings                           31680\n",
       "4th & Congress                                 30160\n",
       "Convention Center / 4th St. @ MetroRail        30001\n",
       "Davis at Rainey Street                         29763\n",
       "Capitol Station / Congress & 11th              25226\n",
       "Pfluger Bridge @ W 2nd Street                  24699\n",
       "3rd & West                                     21404\n",
       "UT West Mall @ Guadalupe                       20858\n",
       "Long Center @ South 1st & Riverside            20554\n",
       "Palmer Auditorium                              19481\n",
       "Zilker Park                                    19274\n",
       "Barton Springs @ Kinney Ave                    19204\n",
       "Barton Springs & Riverside                     19118\n",
       "South Congress & James                         18505\n",
       "Guadalupe & 21st                               17727\n",
       "South Congress & Academy                       17617\n",
       "Convention Center / 3rd & Trinity              17351\n",
       "Barton Springs Pool                            16025\n",
       "8th & Congress                                 15676\n",
       "South Congress & Elizabeth                     15638\n",
       "23rd & Rio Grande                              15360\n",
       "Dean Keeton & Speedway                         14546\n",
       "West & 6th St.                                 14106\n",
       "22nd & Pearl                                   13919\n",
       "Plaza Saltillo                                 13812\n",
       "                                               ...  \n",
       "Zilker Park West                                1361\n",
       "6th & Navasota St.                              1301\n",
       "Convention Center/ 3rd & Trinity                1292\n",
       "Mobile Station                                  1183\n",
       "East 11th Street at Victory Grill               1030\n",
       "Guadalupe & 6th                                  953\n",
       "Pease Park                                       675\n",
       "Lake Austin Blvd @ Deep Eddy                     606\n",
       "8th & Guadalupe                                  587\n",
       "Red River @ LBJ Library                          584\n",
       "East 7th & Pleasant Valley                       550\n",
       "Mobile Station @ Bike Fest                       516\n",
       "Republic Square                                  453\n",
       "Lake Austin & Enfield                            362\n",
       "Main Office                                      311\n",
       "State Parking Garage @ Brazos & 18th             250\n",
       "MapJam at Pan Am Park                             32\n",
       "MapJam at French Legation                         27\n",
       "MapJam at Hops & Grain Brewery                    19\n",
       "Repair Shop                                       15\n",
       "MapJam at Scoot Inn                               11\n",
       "Shop                                              10\n",
       "Mobile Station @ Boardwalk Opening Ceremony        9\n",
       "Re-branding                                        7\n",
       "Mobile Station @ Unplugged                         4\n",
       "Customer Service                                   4\n",
       "Marketing Event                                    4\n",
       "Eeyore's 2018                                      2\n",
       "Stolen                                             1\n",
       "Eeyore's 2017                                      1\n",
       "Name: Checkout Station, Length: 104, dtype: int64"
      ]
     },
     "execution_count": 70,
     "metadata": {},
     "output_type": "execute_result"
    }
   ],
   "source": [
    "df_bike_clean[\"Checkout Station\"].value_counts()"
   ]
  },
  {
   "cell_type": "code",
   "execution_count": 76,
   "metadata": {},
   "outputs": [
    {
     "data": {
      "text/plain": [
       "24"
      ]
     },
     "execution_count": 76,
     "metadata": {},
     "output_type": "execute_result"
    }
   ],
   "source": [
    "## Number of station which have no checkout ID\n",
    "len(df_bike_checkout_id_blank[\"Checkout Station\"].value_counts())"
   ]
  },
  {
   "cell_type": "code",
   "execution_count": 77,
   "metadata": {},
   "outputs": [
    {
     "data": {
      "text/plain": [
       "104"
      ]
     },
     "execution_count": 77,
     "metadata": {},
     "output_type": "execute_result"
    }
   ],
   "source": [
    "## Number of Unique Checkout Station\n",
    "df_bike_clean[\"Checkout Station\"].unique().size"
   ]
  },
  {
   "cell_type": "code",
   "execution_count": 67,
   "metadata": {},
   "outputs": [
    {
     "data": {
      "text/plain": [
       "80"
      ]
     },
     "execution_count": 67,
     "metadata": {},
     "output_type": "execute_result"
    }
   ],
   "source": [
    "## Number of station with unique checkout station ids other than zero\n",
    "104-24"
   ]
  },
  {
   "cell_type": "code",
   "execution_count": 65,
   "metadata": {},
   "outputs": [
    {
     "data": {
      "text/plain": [
       "84"
      ]
     },
     "execution_count": 65,
     "metadata": {},
     "output_type": "execute_result"
    }
   ],
   "source": [
    "## Number of Unique Checkout Station ID\n",
    "df_bike_clean[\"Checkout Station ID\"].unique().size"
   ]
  },
  {
   "cell_type": "code",
   "execution_count": 78,
   "metadata": {},
   "outputs": [
    {
     "data": {
      "text/plain": [
       "Float64Index([3798.0, 2575.0, 2499.0, 2494.0, 2501.0, 2707.0, 2495.0, 2498.0,\n",
       "              2563.0, 2497.0, 2566.0,    0.0, 2552.0, 2548.0, 2549.0, 2567.0,\n",
       "              2574.0, 2711.0, 2502.0, 2503.0, 2547.0, 2570.0, 2539.0, 2572.0,\n",
       "              2496.0, 2504.0, 3841.0, 2537.0, 3792.0, 2542.0, 3377.0, 2565.0,\n",
       "              3390.0, 2571.0, 2538.0, 3793.0, 3838.0, 2550.0, 2569.0, 3794.0,\n",
       "              2562.0, 3795.0, 3513.0, 2540.0, 3797.0, 2822.0, 2564.0, 3619.0,\n",
       "              3621.0, 2561.0, 3799.0, 2536.0, 3455.0, 2544.0, 3292.0, 2568.0,\n",
       "              2541.0, 3687.0, 1007.0, 1008.0, 3291.0, 3684.0, 3293.0, 3686.0,\n",
       "              3660.0, 2712.0, 2823.0, 2576.0, 3294.0, 3685.0, 2546.0, 2545.0,\n",
       "              3635.0, 1006.0, 1002.0, 3464.0, 3790.0, 1003.0, 3381.0, 2500.0,\n",
       "              3791.0, 3456.0, 1005.0, 1001.0],\n",
       "             dtype='float64')"
      ]
     },
     "execution_count": 78,
     "metadata": {},
     "output_type": "execute_result"
    }
   ],
   "source": [
    "## list of checkout station id\n",
    "checkout_station_id_list =  df_bike_na[\"Checkout Station ID\"].value_counts().index\n",
    "checkout_station_id_list\n",
    "\n",
    "## we have 83 unique check out station ID excluding zero"
   ]
  },
  {
   "cell_type": "code",
   "execution_count": 79,
   "metadata": {},
   "outputs": [
    {
     "data": {
      "text/plain": [
       "{'West & 6th St.': {2537.0},\n",
       " 'Convention Center / 4th St. @ MetroRail': {2498.0},\n",
       " 'Zilker Park at Barton Springs & William Barton Drive': {0.0},\n",
       " 'Bullock Museum @ Congress & MLK': {0.0, 2538.0},\n",
       " '8th & Congress': {2496.0},\n",
       " 'East 11th St. & San Marcos': {2569.0},\n",
       " 'South Congress & Elizabeth': {2504.0},\n",
       " 'Pfluger Bridge @ W 2nd Street': {2566.0},\n",
       " 'Riverside @ S. Lamar': {2575.0},\n",
       " '2nd & Congress': {2494.0},\n",
       " 'Convention Center/ 3rd & Trinity': {0.0},\n",
       " 'East 6th at Robert Martinez': {2822.0},\n",
       " 'East 6th & Pedernales St.': {2544.0},\n",
       " 'Davis at Rainey Street': {2563.0},\n",
       " 'UT West Mall @ Guadalupe': {2548.0},\n",
       " 'East 11th Street at Victory Grill': {0.0},\n",
       " 'Palmer Auditorium': {2567.0},\n",
       " 'State Capitol Visitors Garage @ San Jacinto & 12th': {2561.0},\n",
       " 'Rainey St @ Cummings': {2707.0},\n",
       " '5th & Bowie': {2501.0},\n",
       " 'Long Center @ South 1st & Riverside': {2549.0},\n",
       " '17th & Guadalupe': {2540.0},\n",
       " 'Red River & 8th Street': {2571.0},\n",
       " 'Barton Springs Pool': {2572.0},\n",
       " 'State Capitol @ 14th & Colorado': {0.0, 2541.0},\n",
       " 'Capital Metro HQ - East 5th at Broadway': {2823.0},\n",
       " '3rd & West': {2552.0},\n",
       " 'South Congress & James': {2503.0},\n",
       " 'Barton Springs @ Kinney Ave': {2711.0},\n",
       " 'City Hall / Lavaca & 2nd': {2499.0},\n",
       " 'ACC - Rio Grande & 12th': {2545.0},\n",
       " 'Guadalupe & 21st': {2547.0},\n",
       " '4th & Congress': {2495.0},\n",
       " 'South Congress & Academy': {2570.0},\n",
       " 'Barton Springs & Riverside': {2502.0},\n",
       " 'Republic Square @ Guadalupe & 4th St.': {2550.0},\n",
       " 'Trinity & 6th Street': {2565.0},\n",
       " 'Red River @ LBJ Library': {0.0},\n",
       " 'Toomey Rd @ South Lamar': {2712.0},\n",
       " '5th & San Marcos': {2564.0},\n",
       " 'Capitol Station / Congress & 11th': {2497.0},\n",
       " '6th & Congress': {3619.0},\n",
       " 'Zilker Park West': {1006.0},\n",
       " 'Waller & 6th St.': {2536.0},\n",
       " 'Plaza Saltillo': {2542.0},\n",
       " 'Zilker Park': {2574.0},\n",
       " 'ACC - West & 12th': {0.0},\n",
       " 'San Jacinto & 8th Street': {2562.0},\n",
       " 'Main Office': {0.0, 1001.0},\n",
       " 'Pease Park': {3464.0},\n",
       " 'Nueces @ 3rd': {1008.0},\n",
       " 'East 11th St. at Victory Grill': {2568.0},\n",
       " 'East 2nd & Pedernales': {3293.0},\n",
       " 'Rainey @ River St': {2576.0},\n",
       " '11th & San Jacinto': {3291.0},\n",
       " 'Convention Center / 3rd & Trinity': {2539.0},\n",
       " 'Lavaca & 6th': {1007.0, 3294.0},\n",
       " 'ACC - West & 12th Street': {2546.0},\n",
       " 'East 4th & Chicon': {3292.0},\n",
       " 'Re-branding': {0.0},\n",
       " 'Republic Square @ Federal Courthouse Plaza': {3455.0},\n",
       " 'Guadalupe & 6th': {3294.0},\n",
       " 'South Congress & Barton Springs at the Austin American-Statesman': {3513.0},\n",
       " 'Brazos & 6th': {3390.0},\n",
       " 'MoPac Pedestrian Bridge @ Veterans Drive': {3377.0},\n",
       " 'Medina & East 6th': {3660.0},\n",
       " 'Nueces & 3rd': {3621.0},\n",
       " 'Shop': {0.0},\n",
       " 'Republic Square': {2500.0},\n",
       " 'Customer Service': {0.0},\n",
       " 'East 7th & Pleasant Valley': {3381.0},\n",
       " '13th & San Antonio': {3635.0},\n",
       " 'Stolen': set(),\n",
       " 'Boardwalk West': {3687.0},\n",
       " 'Mobile Station': {0.0},\n",
       " 'Mobile Station @ Bike Fest': {0.0},\n",
       " 'Marketing Event': {0.0},\n",
       " '6th & Navasota St.': {1002.0},\n",
       " 'State Parking Garage @ Brazos & 18th': {1005.0},\n",
       " 'Repair Shop': {0.0},\n",
       " '8th & Guadalupe': {1003.0},\n",
       " 'MapJam at Hops & Grain Brewery': {0.0},\n",
       " 'MapJam at French Legation': {0.0},\n",
       " 'MapJam at Pan Am Park': {0.0},\n",
       " 'MapJam at Scoot Inn': {0.0},\n",
       " 'Mobile Station @ Boardwalk Opening Ceremony': {0.0},\n",
       " 'Mobile Station @ Unplugged': {0.0},\n",
       " 'Sterzing at Barton Springs': {3686.0},\n",
       " 'Henderson & 9th': {3685.0},\n",
       " 'Congress & Cesar Chavez': {3684.0},\n",
       " 'Republic Square @ 5th & Guadalupe': {3455.0, 3456.0},\n",
       " 'Nueces & 26th': {3838.0},\n",
       " 'Rio Grande & 28th': {3793.0},\n",
       " 'Dean Keeton & Speedway ': {0.0, 3794.0},\n",
       " '22nd & Pearl': {3792.0},\n",
       " 'Dean Keeton & Whitis': {3795.0},\n",
       " '21st & University': {3797.0},\n",
       " '21st & Speedway @PCL': {3798.0},\n",
       " 'Lake Austin Blvd @ Deep Eddy': {3790.0},\n",
       " '23rd & Rio Grande': {3841.0},\n",
       " '23rd & San Jacinto @ DKR Stadium': {3799.0},\n",
       " 'Lake Austin & Enfield': {3791.0},\n",
       " \"Eeyore's 2018\": {0.0},\n",
       " \"Eeyore's 2017\": set()}"
      ]
     },
     "execution_count": 79,
     "metadata": {},
     "output_type": "execute_result"
    }
   ],
   "source": [
    "## we have more number of unique checkout station ids than number of unique checkout stations\n",
    "## this implies we have few checkout station with more than one checkout station IDs\n",
    "\n",
    "# creating a dictionary using keyword arguments checkout station and checkout station ids \n",
    "# To check which station has more than one checkout ids\n",
    "Checkout_station_id = dict()\n",
    "for index, row in df_bike_na.iterrows():\n",
    "    if row['Checkout Station'] not in Checkout_station_id:\n",
    "        Checkout_station_id[row['Checkout Station']] = set()\n",
    "    else:\n",
    "         Checkout_station_id[row['Checkout Station']].add(row['Checkout Station ID'])\n",
    "Checkout_station_id "
   ]
  },
  {
   "cell_type": "markdown",
   "metadata": {},
   "source": [
    "## Cleaning membership data \n",
    "\n",
    "While there are missing values in the membership data, we want to take a closer look to understand the types of memberships. Upon closer inspection there are memberships with similar names that should be categorized together. For example: U.T. Student Membership and UT Student Membership. Furthermore, it will be more helpful to categorize the data by day, weekend, week, month, year, 3 year, and student memberships.\n",
    "\n",
    "But we are not dropping the rows because even in these rows the Trip IDs are correct \n",
    "which we can use to count number of rides made for our analysis for other columns"
   ]
  },
  {
   "cell_type": "code",
   "execution_count": 80,
   "metadata": {},
   "outputs": [
    {
     "data": {
      "text/plain": [
       "Walk Up                                          368322\n",
       "Local365                                         167363\n",
       "U.T. Student Membership                          158480\n",
       "24-Hour Kiosk (Austin B-cycle)                   108672\n",
       "Local30                                           54774\n",
       "Weekender                                         43880\n",
       "Annual Membership (Austin B-cycle)                30306\n",
       "Explorer                                          14860\n",
       "Local365+Guest Pass                               10331\n",
       "Local365 ($80 plus tax)                            4005\n",
       "Founding Member                                    3550\n",
       "7-Day                                              3137\n",
       "Founding Member (Austin B-cycle)                   2764\n",
       "7-Day Membership (Austin B-cycle)                  2760\n",
       "Semester Membership (Austin B-cycle)               2426\n",
       "Annual                                             1087\n",
       "Semester Membership                                 900\n",
       "Local30 ($11 plus tax)                              840\n",
       "24-Hour-Online (Austin B-cycle)                     737\n",
       "Weekender ($15 plus tax)                            566\n",
       "Try Before You Buy Special                          522\n",
       "Annual Member                                       480\n",
       "Annual Membership                                   441\n",
       "Annual (San Antonio B-cycle)                        402\n",
       "RideScout Single Ride                               398\n",
       "ACL Weekend Pass Special (Austin B-cycle)           329\n",
       "Annual Member (Houston B-cycle)                     296\n",
       "Annual Membership (Fort Worth Bike Sharing)         266\n",
       "Annual (Denver B-cycle)                             232\n",
       "Republic Rider (Annual)                             216\n",
       "Explorer ($8 plus tax)                              186\n",
       "Annual Plus                                         181\n",
       "Annual (Madison B-cycle)                            165\n",
       "Annual (Broward B-cycle)                            142\n",
       "Annual (Denver Bike Sharing)                        131\n",
       "Annual (Boulder B-cycle)                            129\n",
       "Local365 Youth with helmet (age 13-17 riders)        97\n",
       "Local365 Youth (age 13-17 riders)                    92\n",
       "Annual Membership (GREENbike)                        71\n",
       "Annual Pass                                          54\n",
       "Annual (Kansas City B-cycle)                         51\n",
       "Annual (Cincy Red Bike)                              51\n",
       "Madtown Monthly                                      36\n",
       "Aluminum Access                                      30\n",
       "Annual (Nashville B-cycle)                           27\n",
       "FunFunFun Fest 3 Day Pass                            27\n",
       "Annual Plus Membership                               25\n",
       "Annual Membership (Charlotte B-cycle)                22\n",
       "Annual                                               18\n",
       "Republic Rider                                       17\n",
       "Membership: pay once  one-year commitment            15\n",
       "Annual Membership (Indy - Pacers Bikeshare )         10\n",
       "RESTRICTED                                           10\n",
       "Denver B-cycle Founder                               10\n",
       "UT Student Membership                                 9\n",
       "PROHIBITED                                            8\n",
       "Annual (Omaha B-cycle)                                3\n",
       "24-Hour Membership (Austin B-cycle)                   1\n",
       "Name: Membership Type, dtype: int64"
      ]
     },
     "execution_count": 80,
     "metadata": {},
     "output_type": "execute_result"
    }
   ],
   "source": [
    "df_bike_clean[\"Membership Type\"].value_counts()"
   ]
  },
  {
   "cell_type": "code",
   "execution_count": 81,
   "metadata": {},
   "outputs": [
    {
     "data": {
      "text/html": [
       "<div>\n",
       "<style scoped>\n",
       "    .dataframe tbody tr th:only-of-type {\n",
       "        vertical-align: middle;\n",
       "    }\n",
       "\n",
       "    .dataframe tbody tr th {\n",
       "        vertical-align: top;\n",
       "    }\n",
       "\n",
       "    .dataframe thead th {\n",
       "        text-align: right;\n",
       "    }\n",
       "</style>\n",
       "<table border=\"1\" class=\"dataframe\">\n",
       "  <thead>\n",
       "    <tr style=\"text-align: right;\">\n",
       "      <th></th>\n",
       "      <th>Trip ID</th>\n",
       "      <th>Membership Type</th>\n",
       "      <th>Bicycle ID</th>\n",
       "      <th>Checkout Date</th>\n",
       "      <th>Checkout Time</th>\n",
       "      <th>Checkout Station ID</th>\n",
       "      <th>Checkout Station</th>\n",
       "      <th>Return Station ID</th>\n",
       "      <th>Return Station</th>\n",
       "      <th>Trip Duration Minutes</th>\n",
       "      <th>Trip Month</th>\n",
       "      <th>Trip Year</th>\n",
       "      <th>Trip Date</th>\n",
       "      <th>Trip Day of Week</th>\n",
       "      <th>Trip Hour</th>\n",
       "    </tr>\n",
       "  </thead>\n",
       "  <tbody>\n",
       "    <tr>\n",
       "      <th>326220</th>\n",
       "      <td>8482437</td>\n",
       "      <td>PROHIBITED</td>\n",
       "      <td>511.0</td>\n",
       "      <td>2016-01-20</td>\n",
       "      <td>15:34:07</td>\n",
       "      <td>2497.0</td>\n",
       "      <td>Capitol Station / Congress &amp; 11th</td>\n",
       "      <td>2497.0</td>\n",
       "      <td>Capitol Station / Congress &amp; 11th</td>\n",
       "      <td>0</td>\n",
       "      <td>1</td>\n",
       "      <td>2016</td>\n",
       "      <td>20</td>\n",
       "      <td>Wednesday</td>\n",
       "      <td>15</td>\n",
       "    </tr>\n",
       "    <tr>\n",
       "      <th>329487</th>\n",
       "      <td>8370751</td>\n",
       "      <td>PROHIBITED</td>\n",
       "      <td>391.0</td>\n",
       "      <td>2016-01-11</td>\n",
       "      <td>14:14:10</td>\n",
       "      <td>2497.0</td>\n",
       "      <td>Capitol Station / Congress &amp; 11th</td>\n",
       "      <td>2497.0</td>\n",
       "      <td>Capitol Station / Congress &amp; 11th</td>\n",
       "      <td>0</td>\n",
       "      <td>1</td>\n",
       "      <td>2016</td>\n",
       "      <td>11</td>\n",
       "      <td>Monday</td>\n",
       "      <td>14</td>\n",
       "    </tr>\n",
       "    <tr>\n",
       "      <th>329488</th>\n",
       "      <td>8370756</td>\n",
       "      <td>PROHIBITED</td>\n",
       "      <td>391.0</td>\n",
       "      <td>2016-01-11</td>\n",
       "      <td>14:14:46</td>\n",
       "      <td>2497.0</td>\n",
       "      <td>Capitol Station / Congress &amp; 11th</td>\n",
       "      <td>2497.0</td>\n",
       "      <td>Capitol Station / Congress &amp; 11th</td>\n",
       "      <td>1</td>\n",
       "      <td>1</td>\n",
       "      <td>2016</td>\n",
       "      <td>11</td>\n",
       "      <td>Monday</td>\n",
       "      <td>14</td>\n",
       "    </tr>\n",
       "    <tr>\n",
       "      <th>329489</th>\n",
       "      <td>8370766</td>\n",
       "      <td>PROHIBITED</td>\n",
       "      <td>391.0</td>\n",
       "      <td>2016-01-11</td>\n",
       "      <td>14:15:09</td>\n",
       "      <td>2497.0</td>\n",
       "      <td>Capitol Station / Congress &amp; 11th</td>\n",
       "      <td>2497.0</td>\n",
       "      <td>Capitol Station / Congress &amp; 11th</td>\n",
       "      <td>0</td>\n",
       "      <td>1</td>\n",
       "      <td>2016</td>\n",
       "      <td>11</td>\n",
       "      <td>Monday</td>\n",
       "      <td>14</td>\n",
       "    </tr>\n",
       "    <tr>\n",
       "      <th>347380</th>\n",
       "      <td>9900014475</td>\n",
       "      <td>PROHIBITED</td>\n",
       "      <td>391.0</td>\n",
       "      <td>2016-01-11</td>\n",
       "      <td>14:12:10</td>\n",
       "      <td>2497.0</td>\n",
       "      <td>Capitol Station / Congress &amp; 11th</td>\n",
       "      <td>2497.0</td>\n",
       "      <td>Capitol Station / Congress &amp; 11th</td>\n",
       "      <td>0</td>\n",
       "      <td>1</td>\n",
       "      <td>2016</td>\n",
       "      <td>11</td>\n",
       "      <td>Monday</td>\n",
       "      <td>14</td>\n",
       "    </tr>\n",
       "  </tbody>\n",
       "</table>\n",
       "</div>"
      ],
      "text/plain": [
       "           Trip ID Membership Type  Bicycle ID Checkout Date Checkout Time  \\\n",
       "326220     8482437      PROHIBITED       511.0    2016-01-20      15:34:07   \n",
       "329487     8370751      PROHIBITED       391.0    2016-01-11      14:14:10   \n",
       "329488     8370756      PROHIBITED       391.0    2016-01-11      14:14:46   \n",
       "329489     8370766      PROHIBITED       391.0    2016-01-11      14:15:09   \n",
       "347380  9900014475      PROHIBITED       391.0    2016-01-11      14:12:10   \n",
       "\n",
       "        Checkout Station ID                   Checkout Station  \\\n",
       "326220               2497.0  Capitol Station / Congress & 11th   \n",
       "329487               2497.0  Capitol Station / Congress & 11th   \n",
       "329488               2497.0  Capitol Station / Congress & 11th   \n",
       "329489               2497.0  Capitol Station / Congress & 11th   \n",
       "347380               2497.0  Capitol Station / Congress & 11th   \n",
       "\n",
       "        Return Station ID                     Return Station  \\\n",
       "326220             2497.0  Capitol Station / Congress & 11th   \n",
       "329487             2497.0  Capitol Station / Congress & 11th   \n",
       "329488             2497.0  Capitol Station / Congress & 11th   \n",
       "329489             2497.0  Capitol Station / Congress & 11th   \n",
       "347380             2497.0  Capitol Station / Congress & 11th   \n",
       "\n",
       "        Trip Duration Minutes  Trip Month  Trip Year  Trip Date  \\\n",
       "326220                      0           1       2016         20   \n",
       "329487                      0           1       2016         11   \n",
       "329488                      1           1       2016         11   \n",
       "329489                      0           1       2016         11   \n",
       "347380                      0           1       2016         11   \n",
       "\n",
       "       Trip Day of Week  Trip Hour  \n",
       "326220        Wednesday         15  \n",
       "329487           Monday         14  \n",
       "329488           Monday         14  \n",
       "329489           Monday         14  \n",
       "347380           Monday         14  "
      ]
     },
     "execution_count": 81,
     "metadata": {},
     "output_type": "execute_result"
    }
   ],
   "source": [
    "# Examine Prohibited and Restricted\n",
    "test = df_bike_clean.loc[df_bike_clean[\"Membership Type\"] == \"RESTRICTED\", :]\n",
    "test = df_bike_clean.loc[df_bike_clean[\"Membership Type\"] == \"PROHIBITED\", :]\n",
    "test.head()"
   ]
  },
  {
   "cell_type": "code",
   "execution_count": 82,
   "metadata": {},
   "outputs": [],
   "source": [
    "# Replace all 24-hour with same name == day \n",
    "df_bike_clean[\"Membership Type\"] = df_bike_clean[\"Membership Type\"].replace(\n",
    "    {\"24-Hour Kiosk (Austin B-cycle)\": \"day\",\n",
    "     \"24-Hour-Online (Austin B-cycle)\": \"day\",\n",
    "     \"24-Hour Membership (Austin B-cycle)\": \"day\",\n",
    "    \"Explorer\": \"day\", \n",
    "    \"Explorer ($8 plus tax)\":\"day\",\n",
    "    \"Walk Up\": \"day\",\n",
    "    \"Try Before You Buy Special\": \"day\",\n",
    "    \"RideScout Single Ride\": \"day\", \n",
    "    \"Aluminum Access\":\"day\"})\n",
    "\n",
    "# Replace all weekend membership == weekend \n",
    "df_bike_clean[\"Membership Type\"] = df_bike_clean[\"Membership Type\"].replace(\n",
    "    {\n",
    "        \"Weekender\": \"weekend\", \n",
    "        \"Weekender ($15 plus tax)\": \"weekend\", \n",
    "        \"ACL Weekend Pass Special (Austin B-cycle)\": \"weekend\", \n",
    "        \"FunFunFun Fest 3 Day Pass\": \"weekend\"\n",
    "    })\n",
    "\n",
    "# Replace all weekend membership == week\n",
    "df_bike_clean[\"Membership Type\"] = df_bike_clean[\"Membership Type\"].replace(\n",
    "    {\n",
    "        \"7-Day\": \"week\", \n",
    "        \"7-Day Membership (Austin B-cycle)\": \"week\", \n",
    "    })\n",
    "\n",
    "\n",
    "# Replace all weekend membership == month\n",
    "df_bike_clean[\"Membership Type\"] = df_bike_clean[\"Membership Type\"].replace(\n",
    "    {\n",
    "        \"Local30\": \"month\", \n",
    "        \"Local30 ($11 plus tax)\": \"month\",\n",
    "        \"Madtown Monthly\":\"month\", \n",
    "    })\n",
    "\n",
    "\n",
    "# Combine all student memberships\n",
    "df_bike_clean[\"Membership Type\"] = df_bike_clean[\"Membership Type\"].replace(\n",
    "    {\n",
    "        \"U.T. Student Membership\": \"student\",\n",
    "        \"UT Student Membership\": \"student\", \n",
    "        \"Semester Membership (Austin B-cycle)\":\"student\", \n",
    "        \"Semester Membership\": \"student\"\n",
    "    })\n",
    "\n",
    "# Replace all annual membership == year\n",
    "df_bike_clean[\"Membership Type\"] = df_bike_clean[\"Membership Type\"].replace(\n",
    "    {\n",
    "        \"Annual Membership (Austin B-cycle)\": \"year\",\n",
    "         \"Annual Member\": \"year\",\n",
    "         \"Annual Membership\":\"year\",\n",
    "         \"Annual (San Antonio B-cycle)\": \"year\",\n",
    "         \"Annual Member (Houston B-cycle)\":\"year\",\n",
    "         \"Annual Membership (Fort Worth Bike Sharing)\":\"year\",\n",
    "         \"Annual (Denver B-cycle)\":\"year\",\n",
    "         \"Republic Rider (Annual)\":\"year\",\n",
    "         \"Republic Rider\": \"year\",\n",
    "         \"Annual Plus\":\"year\",\n",
    "         \"Annual (Madison B-cycle)\":\"year\",\n",
    "         \"Annual (Broward B-cycle)\":\"year\",\n",
    "         \"Annual (Denver Bike Sharing)\":\"year\",\n",
    "         \"Annual (Boulder B-cycle)\":\"year\",\n",
    "         \"Annual Membership (GREENbike)\":\"year\",\n",
    "         \"Annual Pass\":\"year\",\n",
    "         \"Annual (Kansas City B-cycle)\":\"year\",\n",
    "         \"Annual (Cincy Red Bike)\":\"year\",\n",
    "         \"Annual (Nashville B-cycle)\":\"year\",\n",
    "         \"Annual Plus Membership\":\"year\",\n",
    "         \"Annual Membership (Charlotte B-cycle)\":\"year\",\n",
    "         \"Annual Membership (Indy - Pacers Bikeshare )\":\"year\",\n",
    "         \"Annual (Omaha B-cycle)\":\"year\",\n",
    "         \"Annual\":\"year\",\n",
    "         \"Annual \": \"year\",\n",
    "         \"Local365\": \"year\", \n",
    "         \"Local365+Guest Pass\":\"year\",\n",
    "         \"Local365 ($80 plus tax)\": \"year\",\n",
    "         \"Local365 Youth with helmet (age 13-17 riders)\": \"year\", \n",
    "         \"Local365 Youth (age 13-17 riders)\":\"year\",\n",
    "         \"Membership: pay once  one-year commitment\":\"year\"\n",
    "        \n",
    "    })\n",
    "\n",
    "# Replace all founding membership == 3 year\n",
    "df_bike_clean[\"Membership Type\"] = df_bike_clean[\"Membership Type\"].replace(\n",
    "    {\n",
    "        \"Founding Member\": \"3 year\",\n",
    "        \"Founding Member (Austin B-cycle)\": \"3 year\",\n",
    "        \"Denver B-cycle Founder\": \"3 year\"\n",
    "    })\n"
   ]
  },
  {
   "cell_type": "code",
   "execution_count": 83,
   "metadata": {},
   "outputs": [],
   "source": [
    "# Create a new data frame that does not include restricted and prohibited\n",
    "bike_trips= df_bike_clean.loc[(df_bike_clean[\"Membership Type\"] != \"RESTRICTED\") & (df_bike_clean[\"Membership Type\"] != \"PROHIBITED\"), :]"
   ]
  },
  {
   "cell_type": "code",
   "execution_count": 84,
   "metadata": {},
   "outputs": [
    {
     "data": {
      "text/plain": [
       "day        493728\n",
       "year       216726\n",
       "student    161815\n",
       "month       55650\n",
       "weekend     44802\n",
       "3 year       6324\n",
       "week         5897\n",
       "Name: Membership Type, dtype: int64"
      ]
     },
     "execution_count": 84,
     "metadata": {},
     "output_type": "execute_result"
    }
   ],
   "source": [
    "# Verify clean up \n",
    "bike_trips[\"Membership Type\"].value_counts()"
   ]
  },
  {
   "cell_type": "code",
   "execution_count": 85,
   "metadata": {},
   "outputs": [
    {
     "data": {
      "text/plain": [
       "Trip ID                  991271\n",
       "Membership Type          991271\n",
       "Bicycle ID               991271\n",
       "Checkout Date            991271\n",
       "Checkout Time            991271\n",
       "Checkout Station ID      991271\n",
       "Checkout Station         991271\n",
       "Return Station ID        991271\n",
       "Return Station           991271\n",
       "Trip Duration Minutes    991271\n",
       "Trip Month               991271\n",
       "Trip Year                991271\n",
       "Trip Date                991271\n",
       "Trip Day of Week         991271\n",
       "Trip Hour                991271\n",
       "dtype: int64"
      ]
     },
     "execution_count": 85,
     "metadata": {},
     "output_type": "execute_result"
    }
   ],
   "source": [
    "# Filling the na values  \n",
    "df_bike_clean = df_bike_clean.fillna(0)\n",
    "df_bike_clean.count()"
   ]
  },
  {
   "cell_type": "code",
   "execution_count": 97,
   "metadata": {},
   "outputs": [],
   "source": [
    "# Export to csv\n",
    "df_bike_clean.to_csv(\"Clean_Data\\out.csv\", index = None)"
   ]
  },
  {
   "cell_type": "code",
   "execution_count": null,
   "metadata": {},
   "outputs": [],
   "source": []
  }
 ],
 "metadata": {
  "kernelspec": {
   "display_name": "Python 3",
   "language": "python",
   "name": "python3"
  },
  "language_info": {
   "codemirror_mode": {
    "name": "ipython",
    "version": 3
   },
   "file_extension": ".py",
   "mimetype": "text/x-python",
   "name": "python",
   "nbconvert_exporter": "python",
   "pygments_lexer": "ipython3",
   "version": "3.6.5"
  }
 },
 "nbformat": 4,
 "nbformat_minor": 2
}
