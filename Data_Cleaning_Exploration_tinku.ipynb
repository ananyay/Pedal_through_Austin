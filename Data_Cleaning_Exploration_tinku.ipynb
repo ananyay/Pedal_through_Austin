{
 "cells": [
  {
   "cell_type": "code",
   "execution_count": 1,
   "metadata": {},
   "outputs": [],
   "source": [
    "# importing dependencies\n",
    "import numpy as np \n",
    "import pandas as pd \n",
    "import matplotlib.pyplot as plt"
   ]
  },
  {
   "cell_type": "code",
   "execution_count": 2,
   "metadata": {},
   "outputs": [
    {
     "data": {
      "text/html": [
       "<div>\n",
       "<style scoped>\n",
       "    .dataframe tbody tr th:only-of-type {\n",
       "        vertical-align: middle;\n",
       "    }\n",
       "\n",
       "    .dataframe tbody tr th {\n",
       "        vertical-align: top;\n",
       "    }\n",
       "\n",
       "    .dataframe thead th {\n",
       "        text-align: right;\n",
       "    }\n",
       "</style>\n",
       "<table border=\"1\" class=\"dataframe\">\n",
       "  <thead>\n",
       "    <tr style=\"text-align: right;\">\n",
       "      <th></th>\n",
       "      <th>Trip ID</th>\n",
       "      <th>Membership Type</th>\n",
       "      <th>Bicycle ID</th>\n",
       "      <th>Checkout Date</th>\n",
       "      <th>Checkout Time</th>\n",
       "      <th>Checkout Kiosk ID</th>\n",
       "      <th>Checkout Kiosk</th>\n",
       "      <th>Return Kiosk ID</th>\n",
       "      <th>Return Kiosk</th>\n",
       "      <th>Trip Duration Minutes</th>\n",
       "      <th>Month</th>\n",
       "      <th>Year</th>\n",
       "    </tr>\n",
       "  </thead>\n",
       "  <tbody>\n",
       "    <tr>\n",
       "      <th>0</th>\n",
       "      <td>9900012849</td>\n",
       "      <td>Walk Up</td>\n",
       "      <td>19.0</td>\n",
       "      <td>1/7/2016</td>\n",
       "      <td>17:12:35</td>\n",
       "      <td>2711.0</td>\n",
       "      <td>Barton Springs @ Kinney Ave</td>\n",
       "      <td>NaN</td>\n",
       "      <td>Stolen</td>\n",
       "      <td>21296</td>\n",
       "      <td>1.0</td>\n",
       "      <td>2016.0</td>\n",
       "    </tr>\n",
       "    <tr>\n",
       "      <th>1</th>\n",
       "      <td>9900348283</td>\n",
       "      <td>Walk Up</td>\n",
       "      <td>8.0</td>\n",
       "      <td>12/17/2015</td>\n",
       "      <td>20:12:00</td>\n",
       "      <td>2566.0</td>\n",
       "      <td>Pfluger Bridge @ W 2nd Street</td>\n",
       "      <td>NaN</td>\n",
       "      <td>Stolen</td>\n",
       "      <td>13981</td>\n",
       "      <td>12.0</td>\n",
       "      <td>2015.0</td>\n",
       "    </tr>\n",
       "    <tr>\n",
       "      <th>2</th>\n",
       "      <td>16912006</td>\n",
       "      <td>Local365</td>\n",
       "      <td>1558.0</td>\n",
       "      <td>3/20/2018</td>\n",
       "      <td>20:26:08</td>\n",
       "      <td>2499.0</td>\n",
       "      <td>City Hall / Lavaca &amp; 2nd</td>\n",
       "      <td>NaN</td>\n",
       "      <td>Main Office</td>\n",
       "      <td>12496</td>\n",
       "      <td>NaN</td>\n",
       "      <td>NaN</td>\n",
       "    </tr>\n",
       "    <tr>\n",
       "      <th>3</th>\n",
       "      <td>10100370</td>\n",
       "      <td>Walk Up</td>\n",
       "      <td>127.0</td>\n",
       "      <td>5/22/2016</td>\n",
       "      <td>6:27:11</td>\n",
       "      <td>2537.0</td>\n",
       "      <td>West &amp; 6th St.</td>\n",
       "      <td>2504.0</td>\n",
       "      <td>South Congress &amp; Elizabeth</td>\n",
       "      <td>10981</td>\n",
       "      <td>5.0</td>\n",
       "      <td>2016.0</td>\n",
       "    </tr>\n",
       "    <tr>\n",
       "      <th>4</th>\n",
       "      <td>9900331751</td>\n",
       "      <td>Walk Up</td>\n",
       "      <td>843.0</td>\n",
       "      <td>11/21/2015</td>\n",
       "      <td>2:12:31</td>\n",
       "      <td>2537.0</td>\n",
       "      <td>West &amp; 6th St.</td>\n",
       "      <td>NaN</td>\n",
       "      <td>Repair Shop</td>\n",
       "      <td>9118</td>\n",
       "      <td>11.0</td>\n",
       "      <td>2015.0</td>\n",
       "    </tr>\n",
       "  </tbody>\n",
       "</table>\n",
       "</div>"
      ],
      "text/plain": [
       "      Trip ID Membership Type  Bicycle ID Checkout Date Checkout Time  \\\n",
       "0  9900012849         Walk Up        19.0      1/7/2016      17:12:35   \n",
       "1  9900348283         Walk Up         8.0    12/17/2015      20:12:00   \n",
       "2    16912006        Local365      1558.0     3/20/2018      20:26:08   \n",
       "3    10100370         Walk Up       127.0     5/22/2016       6:27:11   \n",
       "4  9900331751         Walk Up       843.0    11/21/2015       2:12:31   \n",
       "\n",
       "   Checkout Kiosk ID                 Checkout Kiosk  Return Kiosk ID  \\\n",
       "0             2711.0    Barton Springs @ Kinney Ave              NaN   \n",
       "1             2566.0  Pfluger Bridge @ W 2nd Street              NaN   \n",
       "2             2499.0       City Hall / Lavaca & 2nd              NaN   \n",
       "3             2537.0                 West & 6th St.           2504.0   \n",
       "4             2537.0                 West & 6th St.              NaN   \n",
       "\n",
       "                 Return Kiosk  Trip Duration Minutes  Month    Year  \n",
       "0                      Stolen                  21296    1.0  2016.0  \n",
       "1                      Stolen                  13981   12.0  2015.0  \n",
       "2                 Main Office                  12496    NaN     NaN  \n",
       "3  South Congress & Elizabeth                  10981    5.0  2016.0  \n",
       "4                 Repair Shop                   9118   11.0  2015.0  "
      ]
     },
     "execution_count": 2,
     "metadata": {},
     "output_type": "execute_result"
    }
   ],
   "source": [
    "# reading the csv file using pandas and creating a dataframe \n",
    "df_bike = pd.read_csv(\"resources/austin_B-Cycle_Trips.csv\")\n",
    "#df_station = pd.read_csv(\"resources/austin_bikeshare_stations.csv\")\n",
    "# displaying the top rows of the dataframe \n",
    "df_bike.head()"
   ]
  },
  {
   "cell_type": "code",
   "execution_count": 3,
   "metadata": {},
   "outputs": [
    {
     "data": {
      "text/plain": [
       "Trip ID                  991271\n",
       "Membership Type          984960\n",
       "Bicycle ID               990548\n",
       "Checkout Date            991271\n",
       "Checkout Time            991271\n",
       "Checkout Kiosk ID        968117\n",
       "Checkout Kiosk           991271\n",
       "Return Kiosk ID          966858\n",
       "Return Kiosk             991271\n",
       "Trip Duration Minutes    991271\n",
       "Month                    618479\n",
       "Year                     618479\n",
       "dtype: int64"
      ]
     },
     "execution_count": 3,
     "metadata": {},
     "output_type": "execute_result"
    }
   ],
   "source": [
    "## Checking for NA Values\n",
    "df_bike.count()"
   ]
  },
  {
   "cell_type": "code",
   "execution_count": 4,
   "metadata": {},
   "outputs": [
    {
     "data": {
      "text/plain": [
       "Trip ID                  991271\n",
       "Membership Type          991271\n",
       "Bicycle ID               991271\n",
       "Checkout Date            991271\n",
       "Checkout Time            991271\n",
       "Checkout Kiosk ID        991271\n",
       "Checkout Kiosk           991271\n",
       "Return Kiosk ID          991271\n",
       "Return Kiosk             991271\n",
       "Trip Duration Minutes    991271\n",
       "Month                    991271\n",
       "Year                     991271\n",
       "dtype: int64"
      ]
     },
     "execution_count": 4,
     "metadata": {},
     "output_type": "execute_result"
    }
   ],
   "source": [
    "# Filling the na values \n",
    "df_bike_na = df_bike.fillna(0)\n",
    "df_bike_na.count()"
   ]
  },
  {
   "cell_type": "code",
   "execution_count": 5,
   "metadata": {},
   "outputs": [
    {
     "name": "stdout",
     "output_type": "stream",
     "text": [
      "723\n"
     ]
    }
   ],
   "source": [
    "## Checking the number of unlabeled bike\n",
    "\n",
    "print(len(df_bike[df_bike_na['Bicycle ID'] == 0]))"
   ]
  },
  {
   "cell_type": "code",
   "execution_count": 8,
   "metadata": {},
   "outputs": [
    {
     "name": "stdout",
     "output_type": "stream",
     "text": [
      "372792\n",
      "372792\n"
     ]
    }
   ],
   "source": [
    "## checking how many rows for months and year are missing\n",
    "print(len(df_bike[df_bike_na['Year'] == 0]))\n",
    "print(len(df_bike[df_bike_na['Month'] == 0]))"
   ]
  },
  {
   "cell_type": "code",
   "execution_count": 9,
   "metadata": {},
   "outputs": [
    {
     "data": {
      "text/html": [
       "<div>\n",
       "<style scoped>\n",
       "    .dataframe tbody tr th:only-of-type {\n",
       "        vertical-align: middle;\n",
       "    }\n",
       "\n",
       "    .dataframe tbody tr th {\n",
       "        vertical-align: top;\n",
       "    }\n",
       "\n",
       "    .dataframe thead th {\n",
       "        text-align: right;\n",
       "    }\n",
       "</style>\n",
       "<table border=\"1\" class=\"dataframe\">\n",
       "  <thead>\n",
       "    <tr style=\"text-align: right;\">\n",
       "      <th></th>\n",
       "      <th>Trip ID</th>\n",
       "      <th>Membership Type</th>\n",
       "      <th>Bicycle ID</th>\n",
       "      <th>Checkout Date</th>\n",
       "      <th>Checkout Time</th>\n",
       "      <th>Checkout Kiosk ID</th>\n",
       "      <th>Checkout Kiosk</th>\n",
       "      <th>Return Kiosk ID</th>\n",
       "      <th>Return Kiosk</th>\n",
       "      <th>Trip Duration Minutes</th>\n",
       "      <th>Month</th>\n",
       "      <th>Year</th>\n",
       "      <th>Trip Date</th>\n",
       "      <th>Trip Day of Week</th>\n",
       "    </tr>\n",
       "  </thead>\n",
       "  <tbody>\n",
       "    <tr>\n",
       "      <th>0</th>\n",
       "      <td>9900012849</td>\n",
       "      <td>Walk Up</td>\n",
       "      <td>19.0</td>\n",
       "      <td>2016-01-07</td>\n",
       "      <td>17:12:35</td>\n",
       "      <td>2711.0</td>\n",
       "      <td>Barton Springs @ Kinney Ave</td>\n",
       "      <td>0.0</td>\n",
       "      <td>Stolen</td>\n",
       "      <td>21296</td>\n",
       "      <td>1</td>\n",
       "      <td>2016</td>\n",
       "      <td>7</td>\n",
       "      <td>Thursday</td>\n",
       "    </tr>\n",
       "  </tbody>\n",
       "</table>\n",
       "</div>"
      ],
      "text/plain": [
       "      Trip ID Membership Type  Bicycle ID Checkout Date Checkout Time  \\\n",
       "0  9900012849         Walk Up        19.0    2016-01-07      17:12:35   \n",
       "\n",
       "   Checkout Kiosk ID               Checkout Kiosk  Return Kiosk ID  \\\n",
       "0             2711.0  Barton Springs @ Kinney Ave              0.0   \n",
       "\n",
       "  Return Kiosk  Trip Duration Minutes  Month  Year  Trip Date Trip Day of Week  \n",
       "0       Stolen                  21296      1  2016          7         Thursday  "
      ]
     },
     "execution_count": 9,
     "metadata": {},
     "output_type": "execute_result"
    }
   ],
   "source": [
    "## Filling the month and year column by splitting the Checkout Date into Month Date and Year\n",
    "df_bike_na['Checkout Date'] = pd.to_datetime(df_bike_na['Checkout Date']) \n",
    "df_bike_na.head(1)\n",
    "df_bike_na['Year'] = df_bike_na['Checkout Date'].dt.year\n",
    "df_bike_na['Month'] = df_bike_na['Checkout Date'].dt.month\n",
    "#df_bike_na['Trip Month Name'] = df_bike_na['Checkout Date'].dt.month_name()\n",
    "df_bike_na['Trip Date'] = df_bike_na['Checkout Date'].dt.day\n",
    "df_bike_na.head(1)\n",
    "\n",
    "df_bike_na['Trip Day of Week'] = df_bike_na['Checkout Date'].dt.weekday_name\n",
    "df_bike_na.head(1) "
   ]
  },
  {
   "cell_type": "code",
   "execution_count": 10,
   "metadata": {},
   "outputs": [
    {
     "data": {
      "text/html": [
       "<div>\n",
       "<style scoped>\n",
       "    .dataframe tbody tr th:only-of-type {\n",
       "        vertical-align: middle;\n",
       "    }\n",
       "\n",
       "    .dataframe tbody tr th {\n",
       "        vertical-align: top;\n",
       "    }\n",
       "\n",
       "    .dataframe thead th {\n",
       "        text-align: right;\n",
       "    }\n",
       "</style>\n",
       "<table border=\"1\" class=\"dataframe\">\n",
       "  <thead>\n",
       "    <tr style=\"text-align: right;\">\n",
       "      <th></th>\n",
       "      <th>Trip ID</th>\n",
       "      <th>Membership Type</th>\n",
       "      <th>Bicycle ID</th>\n",
       "      <th>Checkout Date</th>\n",
       "      <th>Checkout Time</th>\n",
       "      <th>Checkout Station ID</th>\n",
       "      <th>Checkout Station</th>\n",
       "      <th>Return Station ID</th>\n",
       "      <th>Return Station</th>\n",
       "      <th>Trip Duration Minutes</th>\n",
       "      <th>Trip Month</th>\n",
       "      <th>Trip Year</th>\n",
       "      <th>Trip Date</th>\n",
       "      <th>Trip Day of Week</th>\n",
       "    </tr>\n",
       "  </thead>\n",
       "  <tbody>\n",
       "    <tr>\n",
       "      <th>0</th>\n",
       "      <td>9900012849</td>\n",
       "      <td>Walk Up</td>\n",
       "      <td>19.0</td>\n",
       "      <td>2016-01-07</td>\n",
       "      <td>17:12:35</td>\n",
       "      <td>2711.0</td>\n",
       "      <td>Barton Springs @ Kinney Ave</td>\n",
       "      <td>0.0</td>\n",
       "      <td>Stolen</td>\n",
       "      <td>21296</td>\n",
       "      <td>1</td>\n",
       "      <td>2016</td>\n",
       "      <td>7</td>\n",
       "      <td>Thursday</td>\n",
       "    </tr>\n",
       "  </tbody>\n",
       "</table>\n",
       "</div>"
      ],
      "text/plain": [
       "      Trip ID Membership Type  Bicycle ID Checkout Date Checkout Time  \\\n",
       "0  9900012849         Walk Up        19.0    2016-01-07      17:12:35   \n",
       "\n",
       "   Checkout Station ID             Checkout Station  Return Station ID  \\\n",
       "0               2711.0  Barton Springs @ Kinney Ave                0.0   \n",
       "\n",
       "  Return Station  Trip Duration Minutes  Trip Month  Trip Year  Trip Date  \\\n",
       "0         Stolen                  21296           1       2016          7   \n",
       "\n",
       "  Trip Day of Week  \n",
       "0         Thursday  "
      ]
     },
     "execution_count": 10,
     "metadata": {},
     "output_type": "execute_result"
    }
   ],
   "source": [
    "## Renaming the Columns Name\n",
    "df_bike_na = df_bike_na.rename(columns = {\"Checkout Kiosk ID\":\"Checkout Station ID\",\"Checkout Kiosk\":\"Checkout Station\",\n",
    "                                          \"Return Kiosk ID\":\"Return Station ID\",\"Return Kiosk\":\"Return Station\",\n",
    "                                          \"Month\":\"Trip Month\",\"Year\":\"Trip Year\"})\n",
    "df_bike_na.head(1) \n"
   ]
  },
  {
   "cell_type": "code",
   "execution_count": 11,
   "metadata": {},
   "outputs": [
    {
     "data": {
      "text/html": [
       "<div>\n",
       "<style scoped>\n",
       "    .dataframe tbody tr th:only-of-type {\n",
       "        vertical-align: middle;\n",
       "    }\n",
       "\n",
       "    .dataframe tbody tr th {\n",
       "        vertical-align: top;\n",
       "    }\n",
       "\n",
       "    .dataframe thead th {\n",
       "        text-align: right;\n",
       "    }\n",
       "</style>\n",
       "<table border=\"1\" class=\"dataframe\">\n",
       "  <thead>\n",
       "    <tr style=\"text-align: right;\">\n",
       "      <th></th>\n",
       "      <th>Trip ID</th>\n",
       "      <th>Membership Type</th>\n",
       "      <th>Bicycle ID</th>\n",
       "      <th>Checkout Date</th>\n",
       "      <th>Checkout Time</th>\n",
       "      <th>Checkout Station ID</th>\n",
       "      <th>Checkout Station</th>\n",
       "      <th>Return Station ID</th>\n",
       "      <th>Return Station</th>\n",
       "      <th>Trip Duration Minutes</th>\n",
       "      <th>Trip Month</th>\n",
       "      <th>Trip Year</th>\n",
       "      <th>Trip Date</th>\n",
       "      <th>Trip Day of Week</th>\n",
       "      <th>Trip Hour</th>\n",
       "    </tr>\n",
       "  </thead>\n",
       "  <tbody>\n",
       "    <tr>\n",
       "      <th>0</th>\n",
       "      <td>9900012849</td>\n",
       "      <td>Walk Up</td>\n",
       "      <td>19.0</td>\n",
       "      <td>2016-01-07</td>\n",
       "      <td>2018-08-28 17:12:35</td>\n",
       "      <td>2711.0</td>\n",
       "      <td>Barton Springs @ Kinney Ave</td>\n",
       "      <td>0.0</td>\n",
       "      <td>Stolen</td>\n",
       "      <td>21296</td>\n",
       "      <td>1</td>\n",
       "      <td>2016</td>\n",
       "      <td>7</td>\n",
       "      <td>Thursday</td>\n",
       "      <td>17</td>\n",
       "    </tr>\n",
       "  </tbody>\n",
       "</table>\n",
       "</div>"
      ],
      "text/plain": [
       "      Trip ID Membership Type  Bicycle ID Checkout Date       Checkout Time  \\\n",
       "0  9900012849         Walk Up        19.0    2016-01-07 2018-08-28 17:12:35   \n",
       "\n",
       "   Checkout Station ID             Checkout Station  Return Station ID  \\\n",
       "0               2711.0  Barton Springs @ Kinney Ave                0.0   \n",
       "\n",
       "  Return Station  Trip Duration Minutes  Trip Month  Trip Year  Trip Date  \\\n",
       "0         Stolen                  21296           1       2016          7   \n",
       "\n",
       "  Trip Day of Week  Trip Hour  \n",
       "0         Thursday         17  "
      ]
     },
     "execution_count": 11,
     "metadata": {},
     "output_type": "execute_result"
    }
   ],
   "source": [
    "## Creating a new column for Trip Hour\n",
    "# Split the hour from the checkout time \n",
    "df_bike_na['Checkout Time'] = pd.to_datetime(df_bike_na['Checkout Time'])\n",
    "df_bike_na['Trip Hour'] = df_bike_na['Checkout Time'].dt.hour\n",
    "df_bike_na.head(1) "
   ]
  },
  {
   "cell_type": "code",
   "execution_count": 14,
   "metadata": {},
   "outputs": [
    {
     "data": {
      "text/plain": [
       "23"
      ]
     },
     "execution_count": 14,
     "metadata": {},
     "output_type": "execute_result"
    }
   ],
   "source": [
    "## To check how many bikes were stolen\n",
    "df_bike_stolen = df_bike_na.loc[df_bike_na[\"Return Station\"] == \"Stolen\"]\n",
    "number_bike_stolen = df_bike_stolen[\"Return Station\"].count()\n",
    "number_bike_stolen"
   ]
  },
  {
   "cell_type": "code",
   "execution_count": 17,
   "metadata": {},
   "outputs": [
    {
     "data": {
      "text/plain": [
       "25"
      ]
     },
     "execution_count": 17,
     "metadata": {},
     "output_type": "execute_result"
    }
   ],
   "source": [
    "## To check how many bikes were missing\n",
    "df_bike_missing = df_bike_na.loc[df_bike_na[\"Return Station\"] == \"Missing\"]\n",
    "number_bike_missing = df_bike_stolen[\"Return Station\"].count()\n",
    "number_bike_missing"
   ]
  },
  {
   "cell_type": "code",
   "execution_count": 15,
   "metadata": {},
   "outputs": [
    {
     "data": {
      "text/plain": [
       "19033"
      ]
     },
     "execution_count": 15,
     "metadata": {},
     "output_type": "execute_result"
    }
   ],
   "source": [
    "## To check how many bikes have trip duration has zero minutes (faulty data)\n",
    "df_bike_trip_minutes_zero = df_bike_na.loc[df_bike_na[\"Trip Duration Minutes\"] == 0]\n",
    "number_bike_trip_minutes_zero = df_bike_trip_minutes_zero[\"Trip ID\"].count()\n",
    "number_bike_trip_minutes_zero"
   ]
  },
  {
   "cell_type": "code",
   "execution_count": null,
   "metadata": {},
   "outputs": [],
   "source": []
  }
 ],
 "metadata": {
  "kernelspec": {
   "display_name": "Python 3",
   "language": "python",
   "name": "python3"
  },
  "language_info": {
   "codemirror_mode": {
    "name": "ipython",
    "version": 3
   },
   "file_extension": ".py",
   "mimetype": "text/x-python",
   "name": "python",
   "nbconvert_exporter": "python",
   "pygments_lexer": "ipython3",
   "version": "3.6.5"
  }
 },
 "nbformat": 4,
 "nbformat_minor": 2
}
