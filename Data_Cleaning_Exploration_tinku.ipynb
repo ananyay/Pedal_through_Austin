{
 "cells": [
  {
   "cell_type": "code",
   "execution_count": 1,
   "metadata": {},
   "outputs": [],
   "source": [
    "# importing dependencies\n",
    "import numpy as np \n",
    "import pandas as pd \n",
    "import matplotlib.pyplot as plt"
   ]
  },
  {
   "cell_type": "code",
   "execution_count": 2,
   "metadata": {},
   "outputs": [
    {
     "data": {
      "text/html": [
       "<div>\n",
       "<style scoped>\n",
       "    .dataframe tbody tr th:only-of-type {\n",
       "        vertical-align: middle;\n",
       "    }\n",
       "\n",
       "    .dataframe tbody tr th {\n",
       "        vertical-align: top;\n",
       "    }\n",
       "\n",
       "    .dataframe thead th {\n",
       "        text-align: right;\n",
       "    }\n",
       "</style>\n",
       "<table border=\"1\" class=\"dataframe\">\n",
       "  <thead>\n",
       "    <tr style=\"text-align: right;\">\n",
       "      <th></th>\n",
       "      <th>Trip ID</th>\n",
       "      <th>Membership Type</th>\n",
       "      <th>Bicycle ID</th>\n",
       "      <th>Checkout Date</th>\n",
       "      <th>Checkout Time</th>\n",
       "      <th>Checkout Kiosk ID</th>\n",
       "      <th>Checkout Kiosk</th>\n",
       "      <th>Return Kiosk ID</th>\n",
       "      <th>Return Kiosk</th>\n",
       "      <th>Trip Duration Minutes</th>\n",
       "      <th>Month</th>\n",
       "      <th>Year</th>\n",
       "    </tr>\n",
       "  </thead>\n",
       "  <tbody>\n",
       "    <tr>\n",
       "      <th>0</th>\n",
       "      <td>9900285854</td>\n",
       "      <td>Annual (San Antonio B-cycle)</td>\n",
       "      <td>207.0</td>\n",
       "      <td>10/26/2014</td>\n",
       "      <td>13:12:00</td>\n",
       "      <td>2537.0</td>\n",
       "      <td>West &amp; 6th St.</td>\n",
       "      <td>2707.0</td>\n",
       "      <td>Rainey St @ Cummings</td>\n",
       "      <td>76</td>\n",
       "      <td>10.0</td>\n",
       "      <td>2014.0</td>\n",
       "    </tr>\n",
       "    <tr>\n",
       "      <th>1</th>\n",
       "      <td>9900285855</td>\n",
       "      <td>24-Hour Kiosk (Austin B-cycle)</td>\n",
       "      <td>969.0</td>\n",
       "      <td>10/26/2014</td>\n",
       "      <td>13:12:00</td>\n",
       "      <td>2498.0</td>\n",
       "      <td>Convention Center / 4th St. @ MetroRail</td>\n",
       "      <td>2566.0</td>\n",
       "      <td>Pfluger Bridge @ W 2nd Street</td>\n",
       "      <td>58</td>\n",
       "      <td>10.0</td>\n",
       "      <td>2014.0</td>\n",
       "    </tr>\n",
       "    <tr>\n",
       "      <th>2</th>\n",
       "      <td>9900285856</td>\n",
       "      <td>Annual Membership (Austin B-cycle)</td>\n",
       "      <td>214.0</td>\n",
       "      <td>10/26/2014</td>\n",
       "      <td>13:12:00</td>\n",
       "      <td>2537.0</td>\n",
       "      <td>West &amp; 6th St.</td>\n",
       "      <td>2496.0</td>\n",
       "      <td>8th &amp; Congress</td>\n",
       "      <td>8</td>\n",
       "      <td>10.0</td>\n",
       "      <td>2014.0</td>\n",
       "    </tr>\n",
       "    <tr>\n",
       "      <th>3</th>\n",
       "      <td>9900285857</td>\n",
       "      <td>24-Hour Kiosk (Austin B-cycle)</td>\n",
       "      <td>745.0</td>\n",
       "      <td>10/26/2014</td>\n",
       "      <td>13:12:00</td>\n",
       "      <td>NaN</td>\n",
       "      <td>Zilker Park at Barton Springs &amp; William Barton...</td>\n",
       "      <td>NaN</td>\n",
       "      <td>Zilker Park at Barton Springs &amp; William Barton...</td>\n",
       "      <td>28</td>\n",
       "      <td>10.0</td>\n",
       "      <td>2014.0</td>\n",
       "    </tr>\n",
       "    <tr>\n",
       "      <th>4</th>\n",
       "      <td>9900285858</td>\n",
       "      <td>24-Hour Kiosk (Austin B-cycle)</td>\n",
       "      <td>164.0</td>\n",
       "      <td>10/26/2014</td>\n",
       "      <td>13:12:00</td>\n",
       "      <td>2538.0</td>\n",
       "      <td>Bullock Museum @ Congress &amp; MLK</td>\n",
       "      <td>NaN</td>\n",
       "      <td>Convention Center/ 3rd &amp; Trinity</td>\n",
       "      <td>15</td>\n",
       "      <td>10.0</td>\n",
       "      <td>2014.0</td>\n",
       "    </tr>\n",
       "  </tbody>\n",
       "</table>\n",
       "</div>"
      ],
      "text/plain": [
       "      Trip ID                     Membership Type  Bicycle ID Checkout Date  \\\n",
       "0  9900285854        Annual (San Antonio B-cycle)       207.0    10/26/2014   \n",
       "1  9900285855      24-Hour Kiosk (Austin B-cycle)       969.0    10/26/2014   \n",
       "2  9900285856  Annual Membership (Austin B-cycle)       214.0    10/26/2014   \n",
       "3  9900285857      24-Hour Kiosk (Austin B-cycle)       745.0    10/26/2014   \n",
       "4  9900285858      24-Hour Kiosk (Austin B-cycle)       164.0    10/26/2014   \n",
       "\n",
       "  Checkout Time  Checkout Kiosk ID  \\\n",
       "0      13:12:00             2537.0   \n",
       "1      13:12:00             2498.0   \n",
       "2      13:12:00             2537.0   \n",
       "3      13:12:00                NaN   \n",
       "4      13:12:00             2538.0   \n",
       "\n",
       "                                      Checkout Kiosk  Return Kiosk ID  \\\n",
       "0                                     West & 6th St.           2707.0   \n",
       "1            Convention Center / 4th St. @ MetroRail           2566.0   \n",
       "2                                     West & 6th St.           2496.0   \n",
       "3  Zilker Park at Barton Springs & William Barton...              NaN   \n",
       "4                    Bullock Museum @ Congress & MLK              NaN   \n",
       "\n",
       "                                        Return Kiosk  Trip Duration Minutes  \\\n",
       "0                               Rainey St @ Cummings                     76   \n",
       "1                      Pfluger Bridge @ W 2nd Street                     58   \n",
       "2                                     8th & Congress                      8   \n",
       "3  Zilker Park at Barton Springs & William Barton...                     28   \n",
       "4                   Convention Center/ 3rd & Trinity                     15   \n",
       "\n",
       "   Month    Year  \n",
       "0   10.0  2014.0  \n",
       "1   10.0  2014.0  \n",
       "2   10.0  2014.0  \n",
       "3   10.0  2014.0  \n",
       "4   10.0  2014.0  "
      ]
     },
     "execution_count": 2,
     "metadata": {},
     "output_type": "execute_result"
    }
   ],
   "source": [
    "# reading the csv file using pandas and creating a dataframe \n",
    "df_bike = pd.read_csv(\"resources/austin_B-Cycle_Trips.csv\")\n",
    "\n",
    "# displaying the top rows of the dataframe \n",
    "df_bike.head()"
   ]
  },
  {
   "cell_type": "code",
   "execution_count": 3,
   "metadata": {},
   "outputs": [
    {
     "data": {
      "text/plain": [
       "Trip ID                  991271\n",
       "Membership Type          984960\n",
       "Bicycle ID               990548\n",
       "Checkout Date            991271\n",
       "Checkout Time            991271\n",
       "Checkout Kiosk ID        968117\n",
       "Checkout Kiosk           991271\n",
       "Return Kiosk ID          966858\n",
       "Return Kiosk             991271\n",
       "Trip Duration Minutes    991271\n",
       "Month                    618479\n",
       "Year                     618479\n",
       "dtype: int64"
      ]
     },
     "execution_count": 3,
     "metadata": {},
     "output_type": "execute_result"
    }
   ],
   "source": [
    "## Checking for NA Values\n",
    "df_bike.count()"
   ]
  },
  {
   "cell_type": "code",
   "execution_count": 4,
   "metadata": {},
   "outputs": [
    {
     "data": {
      "text/plain": [
       "Trip ID                  991271\n",
       "Membership Type          991271\n",
       "Bicycle ID               991271\n",
       "Checkout Date            991271\n",
       "Checkout Time            991271\n",
       "Checkout Kiosk ID        991271\n",
       "Checkout Kiosk           991271\n",
       "Return Kiosk ID          991271\n",
       "Return Kiosk             991271\n",
       "Trip Duration Minutes    991271\n",
       "Month                    991271\n",
       "Year                     991271\n",
       "dtype: int64"
      ]
     },
     "execution_count": 4,
     "metadata": {},
     "output_type": "execute_result"
    }
   ],
   "source": [
    "# Filling the na values \n",
    "df_bike_na = df_bike.fillna(0)\n",
    "df_bike_na.count()"
   ]
  },
  {
   "cell_type": "code",
   "execution_count": 5,
   "metadata": {},
   "outputs": [
    {
     "name": "stdout",
     "output_type": "stream",
     "text": [
      "723\n"
     ]
    }
   ],
   "source": [
    "## Checking the number of unlabeled bike\n",
    "\n",
    "print(len(df_bike[df_bike_na['Bicycle ID'] == 0]))"
   ]
  },
  {
   "cell_type": "code",
   "execution_count": 6,
   "metadata": {},
   "outputs": [
    {
     "name": "stdout",
     "output_type": "stream",
     "text": [
      "372792\n",
      "372792\n"
     ]
    }
   ],
   "source": [
    "## checking how many rows for months and year are missing\n",
    "print(len(df_bike[df_bike_na['Year'] == 0]))\n",
    "print(len(df_bike[df_bike_na['Month'] == 0]))"
   ]
  },
  {
   "cell_type": "code",
   "execution_count": 7,
   "metadata": {},
   "outputs": [
    {
     "data": {
      "text/html": [
       "<div>\n",
       "<style scoped>\n",
       "    .dataframe tbody tr th:only-of-type {\n",
       "        vertical-align: middle;\n",
       "    }\n",
       "\n",
       "    .dataframe tbody tr th {\n",
       "        vertical-align: top;\n",
       "    }\n",
       "\n",
       "    .dataframe thead th {\n",
       "        text-align: right;\n",
       "    }\n",
       "</style>\n",
       "<table border=\"1\" class=\"dataframe\">\n",
       "  <thead>\n",
       "    <tr style=\"text-align: right;\">\n",
       "      <th></th>\n",
       "      <th>Trip ID</th>\n",
       "      <th>Membership Type</th>\n",
       "      <th>Bicycle ID</th>\n",
       "      <th>Checkout Date</th>\n",
       "      <th>Checkout Time</th>\n",
       "      <th>Checkout Kiosk ID</th>\n",
       "      <th>Checkout Kiosk</th>\n",
       "      <th>Return Kiosk ID</th>\n",
       "      <th>Return Kiosk</th>\n",
       "      <th>Trip Duration Minutes</th>\n",
       "      <th>Month</th>\n",
       "      <th>Year</th>\n",
       "      <th>Trip Date</th>\n",
       "      <th>Trip Day of Week</th>\n",
       "    </tr>\n",
       "  </thead>\n",
       "  <tbody>\n",
       "    <tr>\n",
       "      <th>0</th>\n",
       "      <td>9900285854</td>\n",
       "      <td>Annual (San Antonio B-cycle)</td>\n",
       "      <td>207.0</td>\n",
       "      <td>2014-10-26</td>\n",
       "      <td>13:12:00</td>\n",
       "      <td>2537.0</td>\n",
       "      <td>West &amp; 6th St.</td>\n",
       "      <td>2707.0</td>\n",
       "      <td>Rainey St @ Cummings</td>\n",
       "      <td>76</td>\n",
       "      <td>10</td>\n",
       "      <td>2014</td>\n",
       "      <td>26</td>\n",
       "      <td>Sunday</td>\n",
       "    </tr>\n",
       "  </tbody>\n",
       "</table>\n",
       "</div>"
      ],
      "text/plain": [
       "      Trip ID               Membership Type  Bicycle ID Checkout Date  \\\n",
       "0  9900285854  Annual (San Antonio B-cycle)       207.0    2014-10-26   \n",
       "\n",
       "  Checkout Time  Checkout Kiosk ID  Checkout Kiosk  Return Kiosk ID  \\\n",
       "0      13:12:00             2537.0  West & 6th St.           2707.0   \n",
       "\n",
       "           Return Kiosk  Trip Duration Minutes  Month  Year  Trip Date  \\\n",
       "0  Rainey St @ Cummings                     76     10  2014         26   \n",
       "\n",
       "  Trip Day of Week  \n",
       "0           Sunday  "
      ]
     },
     "execution_count": 7,
     "metadata": {},
     "output_type": "execute_result"
    }
   ],
   "source": [
    "## Filling the month and year column by splitting the Checkout Date into Month Date and Year\n",
    "df_bike_na['Checkout Date'] = pd.to_datetime(df_bike_na['Checkout Date']) \n",
    "df_bike_na.head(1)\n",
    "df_bike_na['Year'] = df_bike_na['Checkout Date'].dt.year\n",
    "df_bike_na['Month'] = df_bike_na['Checkout Date'].dt.month\n",
    "#df_bike_na['Trip Month Name'] = df_bike_na['Checkout Date'].dt.month_name()\n",
    "df_bike_na['Trip Date'] = df_bike_na['Checkout Date'].dt.day\n",
    "df_bike_na.head(1)\n",
    "\n",
    "df_bike_na['Trip Day of Week'] = df_bike_na['Checkout Date'].dt.weekday_name\n",
    "df_bike_na.head(1) "
   ]
  },
  {
   "cell_type": "code",
   "execution_count": 8,
   "metadata": {},
   "outputs": [
    {
     "data": {
      "text/html": [
       "<div>\n",
       "<style scoped>\n",
       "    .dataframe tbody tr th:only-of-type {\n",
       "        vertical-align: middle;\n",
       "    }\n",
       "\n",
       "    .dataframe tbody tr th {\n",
       "        vertical-align: top;\n",
       "    }\n",
       "\n",
       "    .dataframe thead th {\n",
       "        text-align: right;\n",
       "    }\n",
       "</style>\n",
       "<table border=\"1\" class=\"dataframe\">\n",
       "  <thead>\n",
       "    <tr style=\"text-align: right;\">\n",
       "      <th></th>\n",
       "      <th>Trip ID</th>\n",
       "      <th>Membership Type</th>\n",
       "      <th>Bicycle ID</th>\n",
       "      <th>Checkout Date</th>\n",
       "      <th>Checkout Time</th>\n",
       "      <th>Checkout Station ID</th>\n",
       "      <th>Checkout Station</th>\n",
       "      <th>Return Station ID</th>\n",
       "      <th>Return Station</th>\n",
       "      <th>Trip Duration Minutes</th>\n",
       "      <th>Trip Month</th>\n",
       "      <th>Trip Year</th>\n",
       "      <th>Trip Date</th>\n",
       "      <th>Trip Day of Week</th>\n",
       "    </tr>\n",
       "  </thead>\n",
       "  <tbody>\n",
       "    <tr>\n",
       "      <th>0</th>\n",
       "      <td>9900285854</td>\n",
       "      <td>Annual (San Antonio B-cycle)</td>\n",
       "      <td>207.0</td>\n",
       "      <td>2014-10-26</td>\n",
       "      <td>13:12:00</td>\n",
       "      <td>2537.0</td>\n",
       "      <td>West &amp; 6th St.</td>\n",
       "      <td>2707.0</td>\n",
       "      <td>Rainey St @ Cummings</td>\n",
       "      <td>76</td>\n",
       "      <td>10</td>\n",
       "      <td>2014</td>\n",
       "      <td>26</td>\n",
       "      <td>Sunday</td>\n",
       "    </tr>\n",
       "  </tbody>\n",
       "</table>\n",
       "</div>"
      ],
      "text/plain": [
       "      Trip ID               Membership Type  Bicycle ID Checkout Date  \\\n",
       "0  9900285854  Annual (San Antonio B-cycle)       207.0    2014-10-26   \n",
       "\n",
       "  Checkout Time  Checkout Station ID Checkout Station  Return Station ID  \\\n",
       "0      13:12:00               2537.0   West & 6th St.             2707.0   \n",
       "\n",
       "         Return Station  Trip Duration Minutes  Trip Month  Trip Year  \\\n",
       "0  Rainey St @ Cummings                     76          10       2014   \n",
       "\n",
       "   Trip Date Trip Day of Week  \n",
       "0         26           Sunday  "
      ]
     },
     "execution_count": 8,
     "metadata": {},
     "output_type": "execute_result"
    }
   ],
   "source": [
    "## Renaming the Columns Name\n",
    "df_bike_na = df_bike_na.rename(columns = {\"Checkout Kiosk ID\":\"Checkout Station ID\",\"Checkout Kiosk\":\"Checkout Station\",\n",
    "                                          \"Return Kiosk ID\":\"Return Station ID\",\"Return Kiosk\":\"Return Station\",\n",
    "                                          \"Month\":\"Trip Month\",\"Year\":\"Trip Year\"})\n",
    "df_bike_na.head(1) \n"
   ]
  },
  {
   "cell_type": "code",
   "execution_count": 9,
   "metadata": {},
   "outputs": [
    {
     "data": {
      "text/html": [
       "<div>\n",
       "<style scoped>\n",
       "    .dataframe tbody tr th:only-of-type {\n",
       "        vertical-align: middle;\n",
       "    }\n",
       "\n",
       "    .dataframe tbody tr th {\n",
       "        vertical-align: top;\n",
       "    }\n",
       "\n",
       "    .dataframe thead th {\n",
       "        text-align: right;\n",
       "    }\n",
       "</style>\n",
       "<table border=\"1\" class=\"dataframe\">\n",
       "  <thead>\n",
       "    <tr style=\"text-align: right;\">\n",
       "      <th></th>\n",
       "      <th>Trip ID</th>\n",
       "      <th>Membership Type</th>\n",
       "      <th>Bicycle ID</th>\n",
       "      <th>Checkout Date</th>\n",
       "      <th>Checkout Time</th>\n",
       "      <th>Checkout Station ID</th>\n",
       "      <th>Checkout Station</th>\n",
       "      <th>Return Station ID</th>\n",
       "      <th>Return Station</th>\n",
       "      <th>Trip Duration Minutes</th>\n",
       "      <th>Trip Month</th>\n",
       "      <th>Trip Year</th>\n",
       "      <th>Trip Date</th>\n",
       "      <th>Trip Day of Week</th>\n",
       "      <th>Trip Hour</th>\n",
       "    </tr>\n",
       "  </thead>\n",
       "  <tbody>\n",
       "    <tr>\n",
       "      <th>0</th>\n",
       "      <td>9900285854</td>\n",
       "      <td>Annual (San Antonio B-cycle)</td>\n",
       "      <td>207.0</td>\n",
       "      <td>2014-10-26</td>\n",
       "      <td>2018-08-29 13:12:00</td>\n",
       "      <td>2537.0</td>\n",
       "      <td>West &amp; 6th St.</td>\n",
       "      <td>2707.0</td>\n",
       "      <td>Rainey St @ Cummings</td>\n",
       "      <td>76</td>\n",
       "      <td>10</td>\n",
       "      <td>2014</td>\n",
       "      <td>26</td>\n",
       "      <td>Sunday</td>\n",
       "      <td>13</td>\n",
       "    </tr>\n",
       "  </tbody>\n",
       "</table>\n",
       "</div>"
      ],
      "text/plain": [
       "      Trip ID               Membership Type  Bicycle ID Checkout Date  \\\n",
       "0  9900285854  Annual (San Antonio B-cycle)       207.0    2014-10-26   \n",
       "\n",
       "        Checkout Time  Checkout Station ID Checkout Station  \\\n",
       "0 2018-08-29 13:12:00               2537.0   West & 6th St.   \n",
       "\n",
       "   Return Station ID        Return Station  Trip Duration Minutes  Trip Month  \\\n",
       "0             2707.0  Rainey St @ Cummings                     76          10   \n",
       "\n",
       "   Trip Year  Trip Date Trip Day of Week  Trip Hour  \n",
       "0       2014         26           Sunday         13  "
      ]
     },
     "execution_count": 9,
     "metadata": {},
     "output_type": "execute_result"
    }
   ],
   "source": [
    "## Creating a new column for Trip Hour\n",
    "# Split the hour from the checkout time \n",
    "df_bike_na['Checkout Time'] = pd.to_datetime(df_bike_na['Checkout Time'])\n",
    "df_bike_na['Trip Hour'] = df_bike_na['Checkout Time'].dt.hour\n",
    "df_bike_na.head(1) "
   ]
  },
  {
   "cell_type": "code",
   "execution_count": 10,
   "metadata": {},
   "outputs": [
    {
     "data": {
      "text/plain": [
       "23"
      ]
     },
     "execution_count": 10,
     "metadata": {},
     "output_type": "execute_result"
    }
   ],
   "source": [
    "## To check how many bikes were stolen\n",
    "df_bike_stolen = df_bike_na.loc[df_bike_na[\"Return Station\"] == \"Stolen\"]\n",
    "number_bike_stolen = df_bike_stolen[\"Return Station\"].count()\n",
    "number_bike_stolen"
   ]
  },
  {
   "cell_type": "code",
   "execution_count": 11,
   "metadata": {},
   "outputs": [
    {
     "data": {
      "text/plain": [
       "25"
      ]
     },
     "execution_count": 11,
     "metadata": {},
     "output_type": "execute_result"
    }
   ],
   "source": [
    "## To check how many bikes were missing\n",
    "df_bike_missing = df_bike_na.loc[df_bike_na[\"Return Station\"] == \"Missing\"]\n",
    "number_bike_missing = df_bike_missing[\"Return Station\"].count()\n",
    "number_bike_missing"
   ]
  },
  {
   "cell_type": "code",
   "execution_count": 12,
   "metadata": {},
   "outputs": [
    {
     "data": {
      "text/plain": [
       "19033"
      ]
     },
     "execution_count": 12,
     "metadata": {},
     "output_type": "execute_result"
    }
   ],
   "source": [
    "## To check how many bikes have trip duration has zero minutes (faulty data)\n",
    "df_bike_trip_minutes_zero = df_bike_na.loc[df_bike_na[\"Trip Duration Minutes\"] == 0]\n",
    "number_bike_trip_minutes_zero = df_bike_trip_minutes_zero[\"Trip ID\"].count()\n",
    "number_bike_trip_minutes_zero"
   ]
  },
  {
   "cell_type": "code",
   "execution_count": 13,
   "metadata": {},
   "outputs": [
    {
     "data": {
      "text/plain": [
       "23154"
      ]
     },
     "execution_count": 13,
     "metadata": {},
     "output_type": "execute_result"
    }
   ],
   "source": [
    "## To check how many Checkout Station ID are blank\n",
    "df_bike_checkout_id_blank = df_bike_na.loc[df_bike_na[\"Checkout Station ID\"] == 0]\n",
    "number_df_bike_checkout_id_blank  = df_bike_checkout_id_blank[\"Trip ID\"].count()\n",
    "number_df_bike_checkout_id_blank"
   ]
  },
  {
   "cell_type": "code",
   "execution_count": 14,
   "metadata": {},
   "outputs": [
    {
     "data": {
      "text/plain": [
       "Zilker Park at Barton Springs & William Barton Drive    11534\n",
       "Dean Keeton & Speedway                                   3825\n",
       "ACC - West & 12th                                        2462\n",
       "Convention Center/ 3rd & Trinity                         1292\n",
       "Mobile Station                                           1183\n",
       "East 11th Street at Victory Grill                        1030\n",
       "Red River @ LBJ Library                                   584\n",
       "Mobile Station @ Bike Fest                                516\n",
       "Main Office                                               300\n",
       "Bullock Museum @ Congress & MLK                           172\n",
       "State Capitol @ 14th & Colorado                           111\n",
       "MapJam at Pan Am Park                                      32\n",
       "MapJam at French Legation                                  27\n",
       "MapJam at Hops & Grain Brewery                             19\n",
       "Repair Shop                                                15\n",
       "MapJam at Scoot Inn                                        11\n",
       "Shop                                                       10\n",
       "Mobile Station @ Boardwalk Opening Ceremony                 9\n",
       "Re-branding                                                 7\n",
       "Mobile Station @ Unplugged                                  4\n",
       "Customer Service                                            4\n",
       "Marketing Event                                             4\n",
       "Eeyore's 2018                                               2\n",
       "Eeyore's 2017                                               1\n",
       "Name: Checkout Station, dtype: int64"
      ]
     },
     "execution_count": 14,
     "metadata": {},
     "output_type": "execute_result"
    }
   ],
   "source": [
    "## To find which check out station have blank checkout IDs\n",
    "df_bike_checkout_id_blank = df_bike_na.loc[df_bike_na[\"Checkout Station ID\"] == 0]\n",
    "df_bike_checkout_id_blank[\"Checkout Station\"].value_counts()"
   ]
  },
  {
   "cell_type": "code",
   "execution_count": 15,
   "metadata": {},
   "outputs": [
    {
     "data": {
      "text/plain": [
       "24"
      ]
     },
     "execution_count": 15,
     "metadata": {},
     "output_type": "execute_result"
    }
   ],
   "source": [
    "## Number of station which have no checkout ID\n",
    "len(df_bike_checkout_id_blank[\"Checkout Station\"].value_counts())"
   ]
  },
  {
   "cell_type": "code",
   "execution_count": 16,
   "metadata": {},
   "outputs": [
    {
     "data": {
      "text/plain": [
       "104"
      ]
     },
     "execution_count": 16,
     "metadata": {},
     "output_type": "execute_result"
    }
   ],
   "source": [
    "## Number of Unique Checkout Station\n",
    "df_bike_na[\"Checkout Station\"].unique().size"
   ]
  },
  {
   "cell_type": "code",
   "execution_count": 17,
   "metadata": {},
   "outputs": [
    {
     "data": {
      "text/plain": [
       "80"
      ]
     },
     "execution_count": 17,
     "metadata": {},
     "output_type": "execute_result"
    }
   ],
   "source": [
    "## Number of station with unique checkout station ids other than zero\n",
    "104-24"
   ]
  },
  {
   "cell_type": "code",
   "execution_count": 18,
   "metadata": {},
   "outputs": [
    {
     "data": {
      "text/plain": [
       "84"
      ]
     },
     "execution_count": 18,
     "metadata": {},
     "output_type": "execute_result"
    }
   ],
   "source": [
    "## Number of Unique Checkout Station ID\n",
    "df_bike_na[\"Checkout Station ID\"].unique().size"
   ]
  },
  {
   "cell_type": "code",
   "execution_count": 19,
   "metadata": {},
   "outputs": [
    {
     "data": {
      "text/plain": [
       "Float64Index([3798.0, 2575.0, 2499.0, 2494.0, 2501.0, 2707.0, 2495.0, 2498.0,\n",
       "              2563.0, 2497.0, 2566.0,    0.0, 2552.0, 2548.0, 2549.0, 2567.0,\n",
       "              2574.0, 2711.0, 2502.0, 2503.0, 2547.0, 2570.0, 2539.0, 2572.0,\n",
       "              2496.0, 2504.0, 3841.0, 2537.0, 3792.0, 2542.0, 3377.0, 2565.0,\n",
       "              3390.0, 2571.0, 2538.0, 3793.0, 3838.0, 2550.0, 2569.0, 3794.0,\n",
       "              2562.0, 3795.0, 3513.0, 2540.0, 3797.0, 2822.0, 2564.0, 3619.0,\n",
       "              3621.0, 2561.0, 3799.0, 2536.0, 3455.0, 2544.0, 3292.0, 2568.0,\n",
       "              2541.0, 3687.0, 1007.0, 1008.0, 3291.0, 3684.0, 3293.0, 3686.0,\n",
       "              3660.0, 2712.0, 2823.0, 2576.0, 3294.0, 3685.0, 2546.0, 2545.0,\n",
       "              3635.0, 1006.0, 1002.0, 3464.0, 3790.0, 1003.0, 3381.0, 2500.0,\n",
       "              3791.0, 3456.0, 1005.0, 1001.0],\n",
       "             dtype='float64')"
      ]
     },
     "execution_count": 19,
     "metadata": {},
     "output_type": "execute_result"
    }
   ],
   "source": [
    "## list of checkout station id\n",
    "checkout_station_id_list =  df_bike_na[\"Checkout Station ID\"].value_counts().index\n",
    "checkout_station_id_list\n",
    "\n",
    "## we have 83 unique check out station ID excluding zero"
   ]
  },
  {
   "cell_type": "code",
   "execution_count": 20,
   "metadata": {},
   "outputs": [
    {
     "data": {
      "text/plain": [
       "{'West & 6th St.': {2537.0},\n",
       " 'Convention Center / 4th St. @ MetroRail': {2498.0},\n",
       " 'Zilker Park at Barton Springs & William Barton Drive': {0.0},\n",
       " 'Bullock Museum @ Congress & MLK': {0.0, 2538.0},\n",
       " '8th & Congress': {2496.0},\n",
       " 'East 11th St. & San Marcos': {2569.0},\n",
       " 'South Congress & Elizabeth': {2504.0},\n",
       " 'Pfluger Bridge @ W 2nd Street': {2566.0},\n",
       " 'Riverside @ S. Lamar': {2575.0},\n",
       " '2nd & Congress': {2494.0},\n",
       " 'Convention Center/ 3rd & Trinity': {0.0},\n",
       " 'East 6th at Robert Martinez': {2822.0},\n",
       " 'East 6th & Pedernales St.': {2544.0},\n",
       " 'Davis at Rainey Street': {2563.0},\n",
       " 'UT West Mall @ Guadalupe': {2548.0},\n",
       " 'East 11th Street at Victory Grill': {0.0},\n",
       " 'Palmer Auditorium': {2567.0},\n",
       " 'State Capitol Visitors Garage @ San Jacinto & 12th': {2561.0},\n",
       " 'Rainey St @ Cummings': {2707.0},\n",
       " '5th & Bowie': {2501.0},\n",
       " 'Long Center @ South 1st & Riverside': {2549.0},\n",
       " '17th & Guadalupe': {2540.0},\n",
       " 'Red River & 8th Street': {2571.0},\n",
       " 'Barton Springs Pool': {2572.0},\n",
       " 'State Capitol @ 14th & Colorado': {0.0, 2541.0},\n",
       " 'Capital Metro HQ - East 5th at Broadway': {2823.0},\n",
       " '3rd & West': {2552.0},\n",
       " 'South Congress & James': {2503.0},\n",
       " 'Barton Springs @ Kinney Ave': {2711.0},\n",
       " 'City Hall / Lavaca & 2nd': {2499.0},\n",
       " 'ACC - Rio Grande & 12th': {2545.0},\n",
       " 'Guadalupe & 21st': {2547.0},\n",
       " '4th & Congress': {2495.0},\n",
       " 'South Congress & Academy': {2570.0},\n",
       " 'Barton Springs & Riverside': {2502.0},\n",
       " 'Republic Square @ Guadalupe & 4th St.': {2550.0},\n",
       " 'Trinity & 6th Street': {2565.0},\n",
       " 'Red River @ LBJ Library': {0.0},\n",
       " 'Toomey Rd @ South Lamar': {2712.0},\n",
       " '5th & San Marcos': {2564.0},\n",
       " 'Capitol Station / Congress & 11th': {2497.0},\n",
       " '6th & Congress': {3619.0},\n",
       " 'Zilker Park West': {1006.0},\n",
       " 'Waller & 6th St.': {2536.0},\n",
       " 'Plaza Saltillo': {2542.0},\n",
       " 'Zilker Park': {2574.0},\n",
       " 'ACC - West & 12th': {0.0},\n",
       " 'San Jacinto & 8th Street': {2562.0},\n",
       " 'Main Office': {0.0, 1001.0},\n",
       " 'Pease Park': {3464.0},\n",
       " 'Nueces @ 3rd': {1008.0},\n",
       " 'East 11th St. at Victory Grill': {2568.0},\n",
       " 'East 2nd & Pedernales': {3293.0},\n",
       " 'Rainey @ River St': {2576.0},\n",
       " '11th & San Jacinto': {3291.0},\n",
       " 'Convention Center / 3rd & Trinity': {2539.0},\n",
       " 'Lavaca & 6th': {1007.0, 3294.0},\n",
       " 'ACC - West & 12th Street': {2546.0},\n",
       " 'East 4th & Chicon': {3292.0},\n",
       " 'Re-branding': {0.0},\n",
       " 'Republic Square @ Federal Courthouse Plaza': {3455.0},\n",
       " 'Guadalupe & 6th': {3294.0},\n",
       " 'South Congress & Barton Springs at the Austin American-Statesman': {3513.0},\n",
       " 'Brazos & 6th': {3390.0},\n",
       " 'MoPac Pedestrian Bridge @ Veterans Drive': {3377.0},\n",
       " 'Medina & East 6th': {3660.0},\n",
       " 'Nueces & 3rd': {3621.0},\n",
       " 'Shop': {0.0},\n",
       " 'Republic Square': {2500.0},\n",
       " 'Customer Service': {0.0},\n",
       " 'East 7th & Pleasant Valley': {3381.0},\n",
       " '13th & San Antonio': {3635.0},\n",
       " 'Stolen': set(),\n",
       " 'Boardwalk West': {3687.0},\n",
       " 'Mobile Station': {0.0},\n",
       " 'Mobile Station @ Bike Fest': {0.0},\n",
       " 'Marketing Event': {0.0},\n",
       " '6th & Navasota St.': {1002.0},\n",
       " 'State Parking Garage @ Brazos & 18th': {1005.0},\n",
       " 'Repair Shop': {0.0},\n",
       " '8th & Guadalupe': {1003.0},\n",
       " 'MapJam at Hops & Grain Brewery': {0.0},\n",
       " 'MapJam at French Legation': {0.0},\n",
       " 'MapJam at Pan Am Park': {0.0},\n",
       " 'MapJam at Scoot Inn': {0.0},\n",
       " 'Mobile Station @ Boardwalk Opening Ceremony': {0.0},\n",
       " 'Mobile Station @ Unplugged': {0.0},\n",
       " 'Sterzing at Barton Springs': {3686.0},\n",
       " 'Henderson & 9th': {3685.0},\n",
       " 'Congress & Cesar Chavez': {3684.0},\n",
       " 'Republic Square @ 5th & Guadalupe': {3455.0, 3456.0},\n",
       " 'Nueces & 26th': {3838.0},\n",
       " 'Rio Grande & 28th': {3793.0},\n",
       " 'Dean Keeton & Speedway ': {0.0, 3794.0},\n",
       " '22nd & Pearl': {3792.0},\n",
       " 'Dean Keeton & Whitis': {3795.0},\n",
       " '21st & University': {3797.0},\n",
       " '21st & Speedway @PCL': {3798.0},\n",
       " 'Lake Austin Blvd @ Deep Eddy': {3790.0},\n",
       " '23rd & Rio Grande': {3841.0},\n",
       " '23rd & San Jacinto @ DKR Stadium': {3799.0},\n",
       " 'Lake Austin & Enfield': {3791.0},\n",
       " \"Eeyore's 2018\": {0.0},\n",
       " \"Eeyore's 2017\": set()}"
      ]
     },
     "execution_count": 20,
     "metadata": {},
     "output_type": "execute_result"
    }
   ],
   "source": [
    "## we have more number of unique checkout station ids than number of unique checkout stations\n",
    "## this implies we have few checkout station with more than one checkout station IDs\n",
    "\n",
    "# creating a dictionary using keyword arguments checkout station and checkout station ids \n",
    "# To check which station has more than one checkout ids\n",
    "Checkout_station_id = dict()\n",
    "for index, row in df_bike_na.iterrows():\n",
    "    if row['Checkout Station'] not in Checkout_station_id:\n",
    "        Checkout_station_id[row['Checkout Station']] = set()\n",
    "    else:\n",
    "         Checkout_station_id[row['Checkout Station']].add(row['Checkout Station ID'])\n",
    "Checkout_station_id "
   ]
  },
  {
   "cell_type": "code",
   "execution_count": 21,
   "metadata": {},
   "outputs": [
    {
     "data": {
      "text/plain": [
       "991271"
      ]
     },
     "execution_count": 21,
     "metadata": {},
     "output_type": "execute_result"
    }
   ],
   "source": [
    "## Checking Number of Unique Trip IDs\n",
    "df_bike_na[\"Trip ID\"].unique().size\n",
    "\n",
    "## The data for Trip IDs is clean we can do analysis on it"
   ]
  },
  {
   "cell_type": "code",
   "execution_count": 22,
   "metadata": {},
   "outputs": [
    {
     "data": {
      "text/plain": [
       "Trip ID                           int64\n",
       "Membership Type                  object\n",
       "Bicycle ID                      float64\n",
       "Checkout Date            datetime64[ns]\n",
       "Checkout Time            datetime64[ns]\n",
       "Checkout Station ID             float64\n",
       "Checkout Station                 object\n",
       "Return Station ID               float64\n",
       "Return Station                   object\n",
       "Trip Duration Minutes             int64\n",
       "Trip Month                        int64\n",
       "Trip Year                         int64\n",
       "Trip Date                         int64\n",
       "Trip Day of Week                 object\n",
       "Trip Hour                         int64\n",
       "dtype: object"
      ]
     },
     "execution_count": 22,
     "metadata": {},
     "output_type": "execute_result"
    }
   ],
   "source": [
    "#checking the data types of columns\n",
    "df_bike_na.dtypes"
   ]
  },
  {
   "cell_type": "code",
   "execution_count": 23,
   "metadata": {},
   "outputs": [
    {
     "data": {
      "text/plain": [
       "Trip ID                           int64\n",
       "Membership Type                  object\n",
       "Bicycle ID                        int32\n",
       "Checkout Date            datetime64[ns]\n",
       "Checkout Time            datetime64[ns]\n",
       "Checkout Station ID               int32\n",
       "Checkout Station                 object\n",
       "Return Station ID                 int32\n",
       "Return Station                   object\n",
       "Trip Duration Minutes             int64\n",
       "Trip Month                        int32\n",
       "Trip Year                         int32\n",
       "Trip Date                         int32\n",
       "Trip Day of Week                 object\n",
       "Trip Hour                         int64\n",
       "dtype: object"
      ]
     },
     "execution_count": 23,
     "metadata": {},
     "output_type": "execute_result"
    }
   ],
   "source": [
    "# converting the trip year,month,date data types from object to int\n",
    "df_bike_na['Trip Year'] = df_bike_na[\"Trip Year\"].astype(int)\n",
    "df_bike_na['Trip Month'] = df_bike_na[\"Trip Month\"].astype(int)\n",
    "df_bike_na['Trip Date'] = df_bike_na[\"Trip Date\"].astype(int)\n",
    "df_bike_na['Bicycle ID'] = df_bike_na['Bicycle ID'].astype(int)\n",
    "df_bike_na['Return Station ID'] = df_bike_na['Bicycle ID'].astype(int)\n",
    "df_bike_na['Checkout Station ID'] = df_bike_na['Bicycle ID'].astype(int)\n",
    "df_bike_na.dtypes"
   ]
  },
  {
   "cell_type": "code",
   "execution_count": null,
   "metadata": {},
   "outputs": [],
   "source": [
    "## Need to write comments that even analyis on trip year date column is good \n",
    "#because those data are clean"
   ]
  },
  {
   "cell_type": "code",
   "execution_count": null,
   "metadata": {},
   "outputs": [],
   "source": [
    "## For popular stations analysis we are considering the top six checkout stations so adding zero \n",
    "# has no effect on the analysis we don't need to remove those rows. \n",
    "#(need to write more on this.....)"
   ]
  },
  {
   "cell_type": "code",
   "execution_count": null,
   "metadata": {},
   "outputs": [],
   "source": []
  }
 ],
 "metadata": {
  "kernelspec": {
   "display_name": "Python 3",
   "language": "python",
   "name": "python3"
  },
  "language_info": {
   "codemirror_mode": {
    "name": "ipython",
    "version": 3
   },
   "file_extension": ".py",
   "mimetype": "text/x-python",
   "name": "python",
   "nbconvert_exporter": "python",
   "pygments_lexer": "ipython3",
   "version": "3.6.5"
  }
 },
 "nbformat": 4,
 "nbformat_minor": 2
}
